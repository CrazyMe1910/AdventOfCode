{
 "cells": [
  {
   "cell_type": "code",
   "execution_count": 173,
   "metadata": {},
   "outputs": [],
   "source": [
    "input = \"inputs/input08.txt\"\n",
    "with open(input, 'r') as file:\n",
    "    day_08_list = [line.strip() for line in file.readlines()]"
   ]
  },
  {
   "cell_type": "code",
   "execution_count": 174,
   "metadata": {},
   "outputs": [],
   "source": [
    "def day_08a(arr):\n",
    "    [minY, maxY, minX, maxX] = [0, len(arr) - 1, 0, len(arr[0]) - 1]\n",
    "    allFrequencies = {}\n",
    "    allAntinodes = []\n",
    "    for y, row in enumerate(arr):\n",
    "        for x, sign in enumerate(row):\n",
    "            if sign != \".\":\n",
    "                if sign not in allFrequencies:\n",
    "                    allFrequencies[sign] = []\n",
    "                allFrequencies[sign].append([y, x])\n",
    "    for sign, allCoors in allFrequencies.items():\n",
    "        for i, coor in enumerate(allCoors):\n",
    "            for j in range(i + 1, len(allCoors)):\n",
    "                diffY = abs(coor[0] - allCoors[j][0])\n",
    "                diffX = abs(coor[1] - allCoors[j][1])\n",
    "                if coor[1] > allCoors[j][1]:\n",
    "                    if coor[0] - diffY >= minY and coor[1] + diffX <= maxX:\n",
    "                        allAntinodes.append([coor[0] - diffY, coor[1] + diffX])\n",
    "                    if allCoors[j][0] + diffY <= maxY and allCoors[j][1] - diffX >= minX:\n",
    "                        allAntinodes.append([allCoors[j][0] + diffY, allCoors[j][1] - diffX])\n",
    "                else:\n",
    "                    if coor[0] - diffY >= minY and coor[1] - diffX >= minX:\n",
    "                        allAntinodes.append([coor[0] - diffY, coor[1] - diffX])\n",
    "                    if allCoors[j][0] + diffY <= maxY and allCoors[j][1] + diffX <= maxX:\n",
    "                        allAntinodes.append([allCoors[j][0] + diffY, allCoors[j][1] + diffX])\n",
    "    print(len(list(set(tuple(pair) for pair in allAntinodes))))"
   ]
  },
  {
   "cell_type": "code",
   "execution_count": 175,
   "metadata": {},
   "outputs": [],
   "source": [
    "def day_08b(arr):\n",
    "    [minY, maxY, minX, maxX] = [0, len(arr) - 1, 0, len(arr[0]) - 1]\n",
    "    allFrequencies = {}\n",
    "    allAntinodes = []\n",
    "    for y, row in enumerate(arr):\n",
    "        for x, sign in enumerate(row):\n",
    "            if sign != \".\":\n",
    "                if sign not in allFrequencies:\n",
    "                    allFrequencies[sign] = []\n",
    "                allFrequencies[sign].append([y, x])\n",
    "    for sign, allCoors in allFrequencies.items():\n",
    "        for i, coor in enumerate(allCoors):\n",
    "            for j in range(i + 1, len(allCoors)):\n",
    "                diffY = abs(coor[0] - allCoors[j][0])\n",
    "                diffX = abs(coor[1] - allCoors[j][1])\n",
    "                countLeft = [1, True]\n",
    "                countRight = [1, True]\n",
    "                allAntinodes.append(coor)\n",
    "                allAntinodes.append(allCoors[j])\n",
    "                if coor[1] > allCoors[j][1]:\n",
    "                    while countRight[1]:\n",
    "                        if coor[0] - (diffY * countRight[0]) >= minY and coor[1] + (diffX * countRight[0]) <= maxX:\n",
    "                            allAntinodes.append([coor[0] - (diffY * countRight[0]), coor[1] + (diffX * countRight[0])])\n",
    "                            countRight[0] += 1\n",
    "                        else:\n",
    "                            countRight[1] = False\n",
    "                    while countLeft[1]:\n",
    "                        if coor[0] + (diffY * countLeft[0]) <= maxY and coor[1] - (diffX * countLeft[0]) >= minX:\n",
    "                            allAntinodes.append([coor[0] + (diffY * countLeft[0]), coor[1] - (diffX * countLeft[0])])\n",
    "                            countLeft[0] += 1\n",
    "                        else:\n",
    "                            countLeft[1] = False\n",
    "                else:\n",
    "                    while countLeft[1]:\n",
    "                        if allCoors[j][0] - (diffY * countLeft[0]) >= minY and allCoors[j][1] - (diffX * countLeft[0]) >= minX:\n",
    "                            allAntinodes.append([allCoors[j][0] - (diffY * countLeft[0]), allCoors[j][1] - (diffX * countLeft[0])])\n",
    "                            countLeft[0] += 1\n",
    "                        else:\n",
    "                            countLeft[1] = False\n",
    "                    while countRight[1]:\n",
    "                        if allCoors[j][0] + (diffY * countRight[0]) <= maxY and allCoors[j][1] + (diffX * countRight[0]) <= maxX:\n",
    "                            allAntinodes.append([allCoors[j][0] + (diffY * countRight[0]), allCoors[j][1] + (diffX * countRight[0])])\n",
    "                            countRight[0] += 1\n",
    "                        else:\n",
    "                            countRight[1] = False\n",
    "    print(len(list(set(tuple(pair) for pair in allAntinodes))))"
   ]
  },
  {
   "cell_type": "code",
   "execution_count": 176,
   "metadata": {},
   "outputs": [
    {
     "name": "stdout",
     "output_type": "stream",
     "text": [
      "220\n",
      "813\n"
     ]
    }
   ],
   "source": [
    "day_08a(day_08_list)\n",
    "day_08b(day_08_list)"
   ]
  },
  {
   "cell_type": "code",
   "execution_count": null,
   "metadata": {},
   "outputs": [],
   "source": []
  }
 ],
 "metadata": {
  "kernelspec": {
   "display_name": "Python 3",
   "language": "python",
   "name": "python3"
  },
  "language_info": {
   "codemirror_mode": {
    "name": "ipython",
    "version": 3
   },
   "file_extension": ".py",
   "mimetype": "text/x-python",
   "name": "python",
   "nbconvert_exporter": "python",
   "pygments_lexer": "ipython3",
   "version": "3.11.3"
  }
 },
 "nbformat": 4,
 "nbformat_minor": 2
}
