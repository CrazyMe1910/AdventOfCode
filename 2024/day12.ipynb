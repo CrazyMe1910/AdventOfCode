{
 "cells": [
  {
   "cell_type": "code",
   "execution_count": 1,
   "metadata": {},
   "outputs": [],
   "source": [
    "input = \"inputs/input12.txt\"\n",
    "with open(input, 'r') as file:\n",
    "    day_12_list = [line.strip() for line in file.readlines()]"
   ]
  },
  {
   "cell_type": "code",
   "execution_count": 2,
   "metadata": {},
   "outputs": [],
   "source": [
    "def day_12a(arr):\n",
    "    def count_gardens(grid):\n",
    "        rows = len(grid)\n",
    "        cols = len(grid[0])\n",
    "        gardens = {}\n",
    "        directions = [(-1, 0), (1, 0), (0, -1), (0, 1)]  # up, down, left, right\n",
    "        group_id = 0\n",
    "\n",
    "        def is_valid(y, x):\n",
    "            return 0 <= y < rows and 0 <= x < cols\n",
    "\n",
    "        def dfs(y, x, letter):\n",
    "            stack = [(y, x)]\n",
    "            sides = 0\n",
    "            letter_count = 0\n",
    "            while stack:\n",
    "                cy, cx = stack.pop()\n",
    "                letter_count += 1\n",
    "                for dy, dx in directions:\n",
    "                    ny, nx = cy + dy, cx + dx\n",
    "                    if not is_valid(ny, nx) or grid[ny][nx] != letter:\n",
    "                        sides += 1\n",
    "                    elif (ny, nx) not in gardens:\n",
    "                        gardens[(ny, nx)] = group_id\n",
    "                        stack.append((ny, nx))\n",
    "            return sides, letter_count\n",
    "\n",
    "        results = {}\n",
    "        for y in range(rows):\n",
    "            for x in range(cols):\n",
    "                if (y, x) not in gardens:\n",
    "                    gardens[(y, x)] = group_id\n",
    "                    letter = grid[y][x]\n",
    "                    group_identifier = f\"{letter}_{group_id}\"\n",
    "                    sides, count = dfs(y, x, letter)\n",
    "                    results[group_identifier] = (sides, count)\n",
    "                    group_id += 1\n",
    "\n",
    "        return results\n",
    "\n",
    "    result = count_gardens(arr)\n",
    "    answer = 0\n",
    "    for (sides, count) in result.values():\n",
    "        answer += sides * count\n",
    "        \n",
    "    print(answer)"
   ]
  },
  {
   "cell_type": "code",
   "execution_count": 3,
   "metadata": {},
   "outputs": [],
   "source": [
    "def day_12b(arr):\n",
    "    print(arr)"
   ]
  },
  {
   "cell_type": "code",
   "execution_count": 4,
   "metadata": {},
   "outputs": [
    {
     "name": "stdout",
     "output_type": "stream",
     "text": [
      "1344578\n"
     ]
    }
   ],
   "source": [
    "day_12a(day_12_list)\n",
    "# day_12b(day_12_list)"
   ]
  },
  {
   "cell_type": "code",
   "execution_count": null,
   "metadata": {},
   "outputs": [],
   "source": []
  }
 ],
 "metadata": {
  "kernelspec": {
   "display_name": "Python 3",
   "language": "python",
   "name": "python3"
  },
  "language_info": {
   "codemirror_mode": {
    "name": "ipython",
    "version": 3
   },
   "file_extension": ".py",
   "mimetype": "text/x-python",
   "name": "python",
   "nbconvert_exporter": "python",
   "pygments_lexer": "ipython3",
   "version": "3.11.3"
  }
 },
 "nbformat": 4,
 "nbformat_minor": 2
}
