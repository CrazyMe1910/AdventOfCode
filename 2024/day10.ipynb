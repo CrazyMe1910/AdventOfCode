{
 "cells": [
  {
   "cell_type": "code",
   "execution_count": 134,
   "metadata": {},
   "outputs": [],
   "source": [
    "input = \"inputs/input10.txt\"\n",
    "with open(input, 'r') as file:\n",
    "    day_10_list = [[int(num) for num in line.strip()] for line in file.readlines()]"
   ]
  },
  {
   "cell_type": "code",
   "execution_count": 135,
   "metadata": {},
   "outputs": [],
   "source": [
    "def day_10a(arr):\n",
    "    [min_y, max_y, min_x, max_x] = [0, len(arr) - 1, 0, len(arr[0]) - 1]\n",
    "    starting_positions = []\n",
    "    for y, _ in enumerate(arr):\n",
    "        for x, _ in enumerate(arr[y]):\n",
    "            if arr[y][x] != 0:\n",
    "                continue\n",
    "            starting_positions.append([y, x])\n",
    "\n",
    "    answer = 0\n",
    "    for i, start_position in enumerate(starting_positions):\n",
    "        search_number = 1\n",
    "        positions = [start_position]\n",
    "        while search_number <= 9:\n",
    "            new_positions = []\n",
    "            for j, position in enumerate(positions):\n",
    "                pos = position\n",
    "                if pos[0] - 1 >= min_y:\n",
    "                    if arr[pos[0] - 1][pos[1]] == search_number:\n",
    "                        new_positions.append([pos[0] - 1, pos[1]])\n",
    "                if pos[0] + 1 <= max_y:\n",
    "                    if arr[pos[0] + 1][pos[1]] == search_number:\n",
    "                        new_positions.append([pos[0] + 1, pos[1]])\n",
    "                if pos[1] - 1 >= min_x:\n",
    "                    if arr[pos[0]][pos[1] - 1] == search_number:\n",
    "                        new_positions.append([pos[0], pos[1] - 1])\n",
    "                if pos[1] + 1 <= max_x:\n",
    "                    if arr[pos[0]][pos[1] + 1] == search_number:\n",
    "                        new_positions.append([pos[0], pos[1] + 1])\n",
    "            positions = list([pairTwo[0], pairTwo[1]] for pairTwo in set(tuple(pair) for pair in new_positions))\n",
    "            search_number += 1\n",
    "        answer += len(positions)\n",
    "    print(answer)"
   ]
  },
  {
   "cell_type": "code",
   "execution_count": 136,
   "metadata": {},
   "outputs": [],
   "source": [
    "def day_10b(arr):\n",
    "    [min_y, max_y, min_x, max_x] = [0, len(arr) - 1, 0, len(arr[0]) - 1]\n",
    "    starting_positions = []\n",
    "    for y, _ in enumerate(arr):\n",
    "        for x, _ in enumerate(arr[y]):\n",
    "            if arr[y][x] != 0:\n",
    "                continue\n",
    "            starting_positions.append([y, x])\n",
    "\n",
    "    answer = 0\n",
    "    for i, start_position in enumerate(starting_positions):\n",
    "        search_number = 1\n",
    "        positions = [start_position]\n",
    "        while search_number <= 9:\n",
    "            new_positions = []\n",
    "            for j, position in enumerate(positions):\n",
    "                pos = position\n",
    "                if pos[0] - 1 >= min_y:\n",
    "                    if arr[pos[0] - 1][pos[1]] == search_number:\n",
    "                        new_positions.append([pos[0] - 1, pos[1]])\n",
    "                if pos[0] + 1 <= max_y:\n",
    "                    if arr[pos[0] + 1][pos[1]] == search_number:\n",
    "                        new_positions.append([pos[0] + 1, pos[1]])\n",
    "                if pos[1] - 1 >= min_x:\n",
    "                    if arr[pos[0]][pos[1] - 1] == search_number:\n",
    "                        new_positions.append([pos[0], pos[1] - 1])\n",
    "                if pos[1] + 1 <= max_x:\n",
    "                    if arr[pos[0]][pos[1] + 1] == search_number:\n",
    "                        new_positions.append([pos[0], pos[1] + 1])\n",
    "            positions = new_positions\n",
    "            search_number += 1\n",
    "        answer += len(positions)\n",
    "    print(answer)"
   ]
  },
  {
   "cell_type": "code",
   "execution_count": 137,
   "metadata": {},
   "outputs": [
    {
     "name": "stdout",
     "output_type": "stream",
     "text": [
      "512\n",
      "1045\n"
     ]
    }
   ],
   "source": [
    "day_10a(day_10_list)\n",
    "day_10b(day_10_list)"
   ]
  },
  {
   "cell_type": "code",
   "execution_count": null,
   "metadata": {},
   "outputs": [],
   "source": []
  }
 ],
 "metadata": {
  "kernelspec": {
   "display_name": "Python 3",
   "language": "python",
   "name": "python3"
  },
  "language_info": {
   "codemirror_mode": {
    "name": "ipython",
    "version": 3
   },
   "file_extension": ".py",
   "mimetype": "text/x-python",
   "name": "python",
   "nbconvert_exporter": "python",
   "pygments_lexer": "ipython3",
   "version": "3.11.3"
  }
 },
 "nbformat": 4,
 "nbformat_minor": 2
}
