{
 "cells": [
  {
   "cell_type": "code",
   "execution_count": 175,
   "metadata": {},
   "outputs": [],
   "source": [
    "input = \"inputs/input02.txt\"\n",
    "with open(input, 'r') as file:\n",
    "    day_02_list = [line.strip().split(\" \") for line in file.readlines()]"
   ]
  },
  {
   "cell_type": "code",
   "execution_count": 176,
   "metadata": {},
   "outputs": [],
   "source": [
    "def check_levels(arr):\n",
    "    saveLevel = None\n",
    "    increase = True\n",
    "    decrease = True\n",
    "    for _, level in enumerate(arr):\n",
    "        if saveLevel == None:\n",
    "            saveLevel = level\n",
    "        elif saveLevel >= level:\n",
    "            increase = False\n",
    "            diff = abs(saveLevel - level)\n",
    "            if diff not in [1, 2, 3]:\n",
    "                decrease = False\n",
    "            saveLevel = level\n",
    "        elif saveLevel <= level:\n",
    "            decrease = False\n",
    "            diff = abs(saveLevel - level)\n",
    "            if diff not in [1, 2, 3]:\n",
    "                increase = False\n",
    "            saveLevel = level\n",
    "\n",
    "    if increase or decrease:\n",
    "        return True"
   ]
  },
  {
   "cell_type": "code",
   "execution_count": 177,
   "metadata": {},
   "outputs": [],
   "source": [
    "def day_02a(arr):\n",
    "    answer = 0\n",
    "\n",
    "    for _, report in enumerate(arr):\n",
    "        report = [int(num) for num in report]\n",
    "\n",
    "        if check_levels(report):\n",
    "            answer += 1\n",
    "            continue\n",
    "\n",
    "    print(answer)"
   ]
  },
  {
   "cell_type": "code",
   "execution_count": 178,
   "metadata": {},
   "outputs": [],
   "source": [
    "def day_02b(arr):\n",
    "    answer = 0\n",
    "\n",
    "    for _, report in enumerate(arr):\n",
    "        report = [int(num) for num in report]\n",
    "\n",
    "        if check_levels(report):\n",
    "            answer += 1\n",
    "            continue\n",
    "\n",
    "        # part two\n",
    "        diffReps = [report[:i] + report[i+1:] for i in range(len(report))]\n",
    "        for _, rep in enumerate(diffReps):\n",
    "            if check_levels(rep):\n",
    "                answer += 1\n",
    "                break\n",
    "\n",
    "    print(answer)"
   ]
  },
  {
   "cell_type": "code",
   "execution_count": 179,
   "metadata": {},
   "outputs": [
    {
     "name": "stdout",
     "output_type": "stream",
     "text": [
      "252\n",
      "324\n"
     ]
    }
   ],
   "source": [
    "day_02a(day_02_list)\n",
    "day_02b(day_02_list)"
   ]
  },
  {
   "cell_type": "code",
   "execution_count": null,
   "metadata": {},
   "outputs": [],
   "source": []
  }
 ],
 "metadata": {
  "kernelspec": {
   "display_name": "Python 3",
   "language": "python",
   "name": "python3"
  },
  "language_info": {
   "codemirror_mode": {
    "name": "ipython",
    "version": 3
   },
   "file_extension": ".py",
   "mimetype": "text/x-python",
   "name": "python",
   "nbconvert_exporter": "python",
   "pygments_lexer": "ipython3",
   "version": "3.11.3"
  }
 },
 "nbformat": 4,
 "nbformat_minor": 2
}
