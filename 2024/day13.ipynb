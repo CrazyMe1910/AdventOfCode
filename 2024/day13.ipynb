{
 "cells": [
  {
   "cell_type": "code",
   "execution_count": 1,
   "metadata": {},
   "outputs": [],
   "source": [
    "import math\n",
    "\n",
    "input = \"inputs/input13.txt\"\n",
    "with open(input, 'r') as file:\n",
    "    day_13_list = [[[int(x.split(\"+\")[1]) if \"+\" in x else int(x.split(\"=\")[1]) for x in answer.split(\": \")[1].split(\", \")] for answer in line.split(\"\\n\")] for line in file.read().split(\"\\n\\n\")]"
   ]
  },
  {
   "cell_type": "code",
   "execution_count": 2,
   "metadata": {},
   "outputs": [],
   "source": [
    "def day_13a(arr):\n",
    "    final_answer = 0\n",
    "    for _, machine in enumerate(arr):\n",
    "        A = machine[0]\n",
    "        B = machine[1]\n",
    "        WIN = machine[2]\n",
    "        answer = []\n",
    "        for i in range(0, 101):\n",
    "            breaking = False\n",
    "            for j in range(0, 101):\n",
    "                if [(A[0] * i + B[0] * j), (A[1] * i + B[1] * j)] == WIN:\n",
    "                    answer = [i, j]\n",
    "                    breaking = True\n",
    "                    break\n",
    "            if breaking:\n",
    "                break\n",
    "        if answer != []:\n",
    "            final_answer += (answer[0] * 3 + answer[1])\n",
    "    print(final_answer)"
   ]
  },
  {
   "cell_type": "code",
   "execution_count": 3,
   "metadata": {},
   "outputs": [],
   "source": [
    "def day_13b(arr):\n",
    "    print(arr)"
   ]
  },
  {
   "cell_type": "code",
   "execution_count": 4,
   "metadata": {},
   "outputs": [
    {
     "name": "stdout",
     "output_type": "stream",
     "text": [
      "39996\n"
     ]
    }
   ],
   "source": [
    "day_13a(day_13_list)\n",
    "# day_13b(day_13_list)"
   ]
  },
  {
   "cell_type": "code",
   "execution_count": null,
   "metadata": {},
   "outputs": [],
   "source": []
  }
 ],
 "metadata": {
  "kernelspec": {
   "display_name": "Python 3",
   "language": "python",
   "name": "python3"
  },
  "language_info": {
   "codemirror_mode": {
    "name": "ipython",
    "version": 3
   },
   "file_extension": ".py",
   "mimetype": "text/x-python",
   "name": "python",
   "nbconvert_exporter": "python",
   "pygments_lexer": "ipython3",
   "version": "3.11.3"
  }
 },
 "nbformat": 4,
 "nbformat_minor": 2
}
