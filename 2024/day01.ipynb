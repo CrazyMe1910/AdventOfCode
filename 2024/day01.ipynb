{
 "cells": [
  {
   "cell_type": "code",
   "execution_count": 81,
   "metadata": {},
   "outputs": [],
   "source": [
    "input = \"inputs/input01.txt\"\n",
    "with open(input, 'r') as file:\n",
    "    day_01_list = [line.strip().split(\"   \") for line in file.readlines()]"
   ]
  },
  {
   "cell_type": "code",
   "execution_count": 82,
   "metadata": {},
   "outputs": [],
   "source": [
    "def day_01_a(arr):\n",
    "    arrOne = []\n",
    "    arrTwo = []\n",
    "    answer = 0\n",
    "\n",
    "    for i, num in enumerate(arr):\n",
    "        arrOne.append(int(num[0]))\n",
    "        arrTwo.append(int(num[1]))\n",
    "\n",
    "    arrOne.sort()\n",
    "    arrTwo.sort()\n",
    "    \n",
    "    for i, num in enumerate(arrOne):\n",
    "        answer += abs(num - arrTwo[i])\n",
    "\n",
    "    print(answer)"
   ]
  },
  {
   "cell_type": "code",
   "execution_count": 83,
   "metadata": {},
   "outputs": [],
   "source": [
    "def day_01_b(arr):\n",
    "    arrOne = []\n",
    "    arrTwo = []\n",
    "    answer = 0\n",
    "\n",
    "    for i, num in enumerate(arr):\n",
    "        arrOne.append(int(num[0]))\n",
    "        arrTwo.append(int(num[1]))\n",
    "\n",
    "    for i, num in enumerate(arrOne):\n",
    "        answer += (arrTwo.count(num) * num)\n",
    "\n",
    "    print(answer)"
   ]
  },
  {
   "cell_type": "code",
   "execution_count": 84,
   "metadata": {},
   "outputs": [
    {
     "name": "stdout",
     "output_type": "stream",
     "text": [
      "1222801\n",
      "22545250\n"
     ]
    }
   ],
   "source": [
    "day_01_a(day_01_list)\n",
    "day_01_b(day_01_list)"
   ]
  },
  {
   "cell_type": "code",
   "execution_count": null,
   "metadata": {},
   "outputs": [],
   "source": []
  }
 ],
 "metadata": {
  "kernelspec": {
   "display_name": "Python 3",
   "language": "python",
   "name": "python3"
  },
  "language_info": {
   "codemirror_mode": {
    "name": "ipython",
    "version": 3
   },
   "file_extension": ".py",
   "mimetype": "text/x-python",
   "name": "python",
   "nbconvert_exporter": "python",
   "pygments_lexer": "ipython3",
   "version": "3.11.3"
  }
 },
 "nbformat": 4,
 "nbformat_minor": 2
}
