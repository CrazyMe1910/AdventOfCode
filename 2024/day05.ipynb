{
 "cells": [
  {
   "cell_type": "code",
   "execution_count": 161,
   "metadata": {},
   "outputs": [],
   "source": [
    "input = \"inputs/input05.txt\"\n",
    "with open(input, 'r') as file:\n",
    "    day_05_list = [line.strip() for line in file.readlines()]"
   ]
  },
  {
   "cell_type": "code",
   "execution_count": 162,
   "metadata": {},
   "outputs": [],
   "source": [
    "def day_05a(arr):\n",
    "    rules = [[int(rule.split(\"|\")[0]), int(rule.split(\"|\")[1])] for rule in arr[:arr.index(\"\")]]\n",
    "    rows = [[int(num) for num in row.split(\",\")] for row in arr[arr.index(\"\") + 1:]]\n",
    "    \n",
    "    answer = 0\n",
    "    for i, row in enumerate(rows):\n",
    "        isCorrect = True\n",
    "        for j, rule in enumerate(rules):\n",
    "            index_one = row.index(rule[0]) if rule[0] in row else -1\n",
    "            index_two = row.index(rule[1]) if rule[1] in row else -1\n",
    "            \n",
    "            if -1 not in [index_one, index_two]:\n",
    "                if index_one > index_two:\n",
    "                    isCorrect = False\n",
    "                    break\n",
    "        \n",
    "        if isCorrect:\n",
    "            answer += row[int((len(row) - 1) / 2)]\n",
    "\n",
    "    print(answer)"
   ]
  },
  {
   "cell_type": "code",
   "execution_count": 163,
   "metadata": {},
   "outputs": [],
   "source": [
    "def day_05b(arr):\n",
    "    rules = [[int(rule.split(\"|\")[0]), int(rule.split(\"|\")[1])] for rule in arr[:arr.index(\"\")]]\n",
    "    rows = [[int(num) for num in row.split(\",\")] for row in arr[arr.index(\"\") + 1:]]\n",
    "    \n",
    "    def reorder_list(row, fix):\n",
    "        [first, second] = [fix[0], fix[1]]\n",
    "        \n",
    "        if first in row and second in row:\n",
    "            index_first = row.index(first)\n",
    "            index_second = row.index(second)\n",
    "\n",
    "            row.pop(index_first)\n",
    "            new_index = row.index(second)\n",
    "            row.insert(new_index, first)\n",
    "\n",
    "        return row\n",
    "\n",
    "    answer = 0\n",
    "    for i, row in enumerate(rows):\n",
    "        broken_rules = []\n",
    "        for j, rule in enumerate(rules):\n",
    "            index_one = row.index(rule[0]) if rule[0] in row else -1\n",
    "            index_two = row.index(rule[1]) if rule[1] in row else -1\n",
    "            \n",
    "            if -1 not in [index_one, index_two]:\n",
    "                if index_one > index_two:\n",
    "                    broken_rules.append(rule)\n",
    "        \n",
    "        if len(broken_rules) == 0:\n",
    "            continue\n",
    "\n",
    "        count = 0\n",
    "        while (len(broken_rules) != 0):\n",
    "            for k, fix in enumerate(broken_rules):\n",
    "                row = reorder_list(row, fix)\n",
    "\n",
    "            broken_rules = []\n",
    "            for l, rule in enumerate(rules):\n",
    "                index_one = row.index(rule[0]) if rule[0] in row else -1\n",
    "                index_two = row.index(rule[1]) if rule[1] in row else -1\n",
    "                \n",
    "                if -1 not in [index_one, index_two]:\n",
    "                    if index_one > index_two:\n",
    "                        broken_rules.append(rule)\n",
    "                        \n",
    "        answer += row[int((len(row) - 1) / 2)]\n",
    "\n",
    "    print(answer)"
   ]
  },
  {
   "cell_type": "code",
   "execution_count": 164,
   "metadata": {},
   "outputs": [
    {
     "name": "stdout",
     "output_type": "stream",
     "text": [
      "6612\n",
      "4944\n"
     ]
    }
   ],
   "source": [
    "day_05a(day_05_list)\n",
    "day_05b(day_05_list)"
   ]
  },
  {
   "cell_type": "code",
   "execution_count": null,
   "metadata": {},
   "outputs": [],
   "source": []
  }
 ],
 "metadata": {
  "kernelspec": {
   "display_name": "Python 3",
   "language": "python",
   "name": "python3"
  },
  "language_info": {
   "codemirror_mode": {
    "name": "ipython",
    "version": 3
   },
   "file_extension": ".py",
   "mimetype": "text/x-python",
   "name": "python",
   "nbconvert_exporter": "python",
   "pygments_lexer": "ipython3",
   "version": "3.11.3"
  }
 },
 "nbformat": 4,
 "nbformat_minor": 2
}
