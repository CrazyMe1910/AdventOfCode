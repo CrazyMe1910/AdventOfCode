{
 "cells": [
  {
   "cell_type": "code",
   "execution_count": 13,
   "metadata": {},
   "outputs": [],
   "source": [
    "input = \"inputs/input06.txt\"\n",
    "with open(input, 'r') as file:\n",
    "    day_06_list = [line.strip() for line in file.readlines()]"
   ]
  },
  {
   "cell_type": "code",
   "execution_count": 14,
   "metadata": {},
   "outputs": [],
   "source": [
    "def get_distinct_positions(arr):\n",
    "    walked_positions = []\n",
    "    position = []\n",
    "    direction = \"^\"\n",
    "\n",
    "    for i, row in enumerate(arr):\n",
    "        if \"^\" in row:\n",
    "            position = [i, row.index(\"^\")]\n",
    "            walked_positions.append([i, row.index(\"^\")])\n",
    "\n",
    "    while True:\n",
    "        i_add = 0\n",
    "        j_add = 0\n",
    "\n",
    "        i_add = 1 if direction == \"v\" else -1 if direction == \"^\" else 0\n",
    "        j_add = 1 if direction == \">\" else -1 if direction == \"<\" else 0\n",
    "\n",
    "        if (position[0] + i_add) > (len(arr) - 1) or (position[0] + i_add) < 0 or (position[1] + j_add) < 0 or (position[1] + j_add) > (len(arr[0]) - 1):\n",
    "            break\n",
    "\n",
    "        if arr[position[0] + i_add][position[1] + j_add] in [\".\", \"^\"]:\n",
    "            position = [position[0] + i_add, position[1] + j_add]\n",
    "            walked_positions.append(position)\n",
    "        else:\n",
    "            direction = \">\" if direction == \"^\" else \"v\" if direction == \">\" else \"<\" if direction == \"v\" else \"^\"\n",
    "\n",
    "    return list(set(tuple(pair) for pair in walked_positions))"
   ]
  },
  {
   "cell_type": "code",
   "execution_count": 15,
   "metadata": {},
   "outputs": [],
   "source": [
    "def day_06a(arr):\n",
    "    distinct_positions = get_distinct_positions(arr)\n",
    "    print(len(distinct_positions))"
   ]
  },
  {
   "cell_type": "code",
   "execution_count": null,
   "metadata": {},
   "outputs": [],
   "source": [
    "def day_06b(arr):\n",
    "    start_pos = []\n",
    "    for i, row in enumerate(arr):\n",
    "        if \"^\" in row:\n",
    "            start_pos = [i, row.index(\"^\")]\n",
    "\n",
    "    answer = 0\n",
    "    distinct_positions = get_distinct_positions(arr)\n",
    "    for _, pos in enumerate(distinct_positions):\n",
    "        j = pos[0]\n",
    "        k = pos[1]\n",
    "        if arr[j][k] in [\"^\", \"#\"]:\n",
    "            continue\n",
    "\n",
    "        used_arr = arr.copy()\n",
    "        used_arr[j] = f\"{used_arr[j][:k]}O{used_arr[j][k + 1:]}\"\n",
    "        \n",
    "        O_pos = [j, k]\n",
    "        O_directions_passed = []\n",
    "        obstacles_passed = []\n",
    "        walked_positions = [start_pos]\n",
    "        position = start_pos\n",
    "        direction = \"^\"\n",
    "\n",
    "        while True:\n",
    "            i_add = 0\n",
    "            j_add = 0\n",
    "\n",
    "            i_add = 1 if direction == \"v\" else -1 if direction == \"^\" else 0\n",
    "            j_add = 1 if direction == \">\" else -1 if direction == \"<\" else 0\n",
    "\n",
    "            if (position[0] + i_add) > (len(used_arr) - 1) or (position[0] + i_add) < 0 or (position[1] + j_add) < 0 or (position[1] + j_add) > (len(used_arr[0]) - 1):\n",
    "                break\n",
    "\n",
    "            if used_arr[position[0] + i_add][position[1] + j_add] == \"O\":\n",
    "                if direction in O_directions_passed:\n",
    "                    answer += 1\n",
    "                    break\n",
    "\n",
    "                O_directions_passed.append(direction)\n",
    "                direction = \">\" if direction == \"^\" else \"v\" if direction == \">\" else \"<\" if direction == \"v\" else \"^\"\n",
    "            elif used_arr[position[0] + i_add][position[1] + j_add] in [\".\", \"^\"]:\n",
    "                position = [position[0] + i_add, position[1] + j_add]\n",
    "                walked_positions.append(position)\n",
    "            else:\n",
    "                if [[position[0] + i_add], [position[1] + j_add], direction] in obstacles_passed:\n",
    "                    answer += 1\n",
    "                    break\n",
    "\n",
    "                obstacles_passed.append([[position[0] + i_add], [position[1] + j_add], direction])\n",
    "                direction = \">\" if direction == \"^\" else \"v\" if direction == \">\" else \"<\" if direction == \"v\" else \"^\"\n",
    "        \n",
    "    print(answer)"
   ]
  },
  {
   "cell_type": "code",
   "execution_count": 17,
   "metadata": {},
   "outputs": [
    {
     "name": "stdout",
     "output_type": "stream",
     "text": [
      "4967\n",
      "1789\n"
     ]
    }
   ],
   "source": [
    "day_06a(day_06_list)\n",
    "day_06b(day_06_list)"
   ]
  },
  {
   "cell_type": "code",
   "execution_count": null,
   "metadata": {},
   "outputs": [],
   "source": []
  }
 ],
 "metadata": {
  "kernelspec": {
   "display_name": "Python 3",
   "language": "python",
   "name": "python3"
  },
  "language_info": {
   "codemirror_mode": {
    "name": "ipython",
    "version": 3
   },
   "file_extension": ".py",
   "mimetype": "text/x-python",
   "name": "python",
   "nbconvert_exporter": "python",
   "pygments_lexer": "ipython3",
   "version": "3.11.3"
  }
 },
 "nbformat": 4,
 "nbformat_minor": 2
}
