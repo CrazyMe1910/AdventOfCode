{
 "cells": [
  {
   "cell_type": "code",
   "execution_count": 53,
   "metadata": {},
   "outputs": [],
   "source": [
    "import copy\n",
    "input = \"inputs/input09.txt\"\n",
    "with open(input, 'r') as file:\n",
    "    day_09_list = [[int(line), int(i / 2) if i % 2 == 0 else None] for i, line in enumerate(file.read())]"
   ]
  },
  {
   "cell_type": "code",
   "execution_count": 54,
   "metadata": {},
   "outputs": [],
   "source": [
    "def day_09a(arr):\n",
    "    length = 0\n",
    "    for i, x in enumerate(arr):\n",
    "        if i % 2 == 0:\n",
    "            length += x[0]\n",
    "\n",
    "    for j, y in enumerate(arr):\n",
    "        if y[0] == 0:\n",
    "            arr.pop(j)\n",
    "\n",
    "    finalArr = []\n",
    "    for k in range(0, length):\n",
    "        if arr[0][1] != None:\n",
    "            finalArr.append(arr[0][1])\n",
    "            arr[0][0] -= 1\n",
    "            if arr[0][0] == 0:\n",
    "                arr.pop(0)\n",
    "        else:\n",
    "            finalArr.append(arr[-1][1])\n",
    "            arr[-1][0] -= 1\n",
    "            if arr[-1][0] == 0:\n",
    "                arr.pop(len(arr) - 1)\n",
    "                if arr[-1][1] == None:\n",
    "                    arr.pop(len(arr) - 1)\n",
    "            arr[0][0] -= 1\n",
    "            if arr[0][0] == 0:\n",
    "                arr.pop(0)\n",
    "                \n",
    "    answer = 0\n",
    "    for l, num in enumerate(finalArr):\n",
    "        answer += (l * num)\n",
    "    print(answer)"
   ]
  },
  {
   "cell_type": "code",
   "execution_count": 55,
   "metadata": {},
   "outputs": [],
   "source": [
    "def day_09b(arr):\n",
    "    for i, x in enumerate(arr):\n",
    "        arr[i].append(False)\n",
    "\n",
    "    j = (len(arr) - 1)\n",
    "    while j >= 0:\n",
    "        if arr[j][1] != None and arr[j][2] == False:\n",
    "            breaking = False\n",
    "            for k, y in enumerate(arr[:j]):\n",
    "                if arr[k][1] != None or arr[k][0] < arr[j][0]:\n",
    "                    continue\n",
    "                if arr[k][0] == arr[j][0]:\n",
    "                    arr[k] = arr[j]\n",
    "                    arr[j] = [arr[j][0], None, True]\n",
    "                    breaking = True\n",
    "                    break\n",
    "                else:\n",
    "                    arr[k][0] -= arr[j][0]\n",
    "                    if arr[k][0] == 0:\n",
    "                        arr[j] = [arr[j][0], None, True]\n",
    "                        arr.pop(k)\n",
    "                    else:\n",
    "                        arr.insert(k, [arr[j][0], arr[j][1], True])\n",
    "                        arr[j + 1] = [arr[j + 1][0], None, True]\n",
    "                    breaking = True\n",
    "                    break\n",
    "            if breaking:\n",
    "                j -= 1\n",
    "            else:\n",
    "                arr[j][2] = True\n",
    "        else:\n",
    "            j -= 1\n",
    "\n",
    "    finalArr = []\n",
    "    for l, z in enumerate(arr):\n",
    "        for m in range(0, z[0]):\n",
    "            finalArr.append(z[1])\n",
    "    \n",
    "    answer = 0\n",
    "    for l, num in enumerate(finalArr):\n",
    "        if num == None:\n",
    "            continue\n",
    "        answer += (l * num)\n",
    "    print(answer)"
   ]
  },
  {
   "cell_type": "code",
   "execution_count": 56,
   "metadata": {},
   "outputs": [
    {
     "name": "stdout",
     "output_type": "stream",
     "text": [
      "6382875730645\n",
      "6420913943576\n"
     ]
    }
   ],
   "source": [
    "day_09a(copy.deepcopy(day_09_list))\n",
    "day_09b(copy.deepcopy(day_09_list))"
   ]
  },
  {
   "cell_type": "code",
   "execution_count": null,
   "metadata": {},
   "outputs": [],
   "source": []
  }
 ],
 "metadata": {
  "kernelspec": {
   "display_name": "Python 3",
   "language": "python",
   "name": "python3"
  },
  "language_info": {
   "codemirror_mode": {
    "name": "ipython",
    "version": 3
   },
   "file_extension": ".py",
   "mimetype": "text/x-python",
   "name": "python",
   "nbconvert_exporter": "python",
   "pygments_lexer": "ipython3",
   "version": "3.11.3"
  }
 },
 "nbformat": 4,
 "nbformat_minor": 2
}
