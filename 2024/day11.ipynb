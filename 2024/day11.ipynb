{
 "cells": [
  {
   "cell_type": "code",
   "execution_count": 1,
   "metadata": {},
   "outputs": [],
   "source": [
    "input = \"inputs/input11.txt\"\n",
    "with open(input, 'r') as file:\n",
    "    day_11_list = file.readline().strip().split(\" \")"
   ]
  },
  {
   "cell_type": "code",
   "execution_count": 2,
   "metadata": {},
   "outputs": [],
   "source": [
    "def day_11a(arr, blink):\n",
    "    for _ in range(0, blink):\n",
    "        i = 0\n",
    "        while i < len(arr):\n",
    "            if int(arr[i]) == 0:\n",
    "                arr[i] = \"1\"\n",
    "            elif len(arr[i]) % 2 == 0:\n",
    "                length = int(len(arr[i]) / 2)\n",
    "                arr.insert(i, f\"{int(arr[i][:length])}\")\n",
    "                arr[i + 1] = f\"{int(arr[i + 1][length:])}\"\n",
    "                i += 1\n",
    "            else:\n",
    "                arr[i] = f\"{int(arr[i]) * 2024}\"\n",
    "            i += 1\n",
    "    print(len(arr))"
   ]
  },
  {
   "cell_type": "code",
   "execution_count": 3,
   "metadata": {},
   "outputs": [],
   "source": [
    "def day_11b(arr, blink):\n",
    "    print(arr, blink)"
   ]
  },
  {
   "cell_type": "code",
   "execution_count": 4,
   "metadata": {},
   "outputs": [
    {
     "name": "stdout",
     "output_type": "stream",
     "text": [
      "204022\n",
      "['0', '37551', '469', '63', '1', '791606', '2065', '9983586'] 75\n"
     ]
    }
   ],
   "source": [
    "day_11a(day_11_list.copy(), 25)\n",
    "day_11b(day_11_list.copy(), 75)"
   ]
  },
  {
   "cell_type": "code",
   "execution_count": null,
   "metadata": {},
   "outputs": [],
   "source": []
  }
 ],
 "metadata": {
  "kernelspec": {
   "display_name": "Python 3",
   "language": "python",
   "name": "python3"
  },
  "language_info": {
   "codemirror_mode": {
    "name": "ipython",
    "version": 3
   },
   "file_extension": ".py",
   "mimetype": "text/x-python",
   "name": "python",
   "nbconvert_exporter": "python",
   "pygments_lexer": "ipython3",
   "version": "3.11.3"
  }
 },
 "nbformat": 4,
 "nbformat_minor": 2
}
