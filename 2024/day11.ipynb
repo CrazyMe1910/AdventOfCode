{
 "cells": [
  {
   "cell_type": "code",
   "execution_count": 147,
   "metadata": {},
   "outputs": [],
   "source": [
    "input = \"inputs/input11.txt\"\n",
    "with open(input, 'r') as file:\n",
    "    day_11_list = file.readline().strip().split(\" \")"
   ]
  },
  {
   "cell_type": "code",
   "execution_count": 148,
   "metadata": {},
   "outputs": [],
   "source": [
    "def day_11a(arr, blink):\n",
    "    for count in range(0, blink):\n",
    "        print(count)\n",
    "        i = 0\n",
    "        while i < len(arr):\n",
    "            if int(arr[i]) == 0:\n",
    "                arr[i] = \"1\"\n",
    "            elif len(arr[i]) % 2 == 0:\n",
    "                length = int(len(arr[i]) / 2)\n",
    "                arr.insert(i, f\"{int(arr[i][:length])}\")\n",
    "                arr[i + 1] = f\"{int(arr[i + 1][length:])}\"\n",
    "                i += 1\n",
    "            else:\n",
    "                arr[i] = f\"{int(arr[i]) * 2024}\"\n",
    "            i += 1\n",
    "    print(len(arr))"
   ]
  },
  {
   "cell_type": "code",
   "execution_count": 149,
   "metadata": {},
   "outputs": [],
   "source": [
    "def day_11b(arr):\n",
    "    print(arr)"
   ]
  },
  {
   "cell_type": "code",
   "execution_count": 150,
   "metadata": {},
   "outputs": [
    {
     "name": "stdout",
     "output_type": "stream",
     "text": [
      "204022\n"
     ]
    }
   ],
   "source": [
    "day_11a(day_11_list.copy(), 25)\n",
    "day_11a(day_11_list.copy(), 75)"
   ]
  },
  {
   "cell_type": "code",
   "execution_count": null,
   "metadata": {},
   "outputs": [],
   "source": []
  }
 ],
 "metadata": {
  "kernelspec": {
   "display_name": "Python 3",
   "language": "python",
   "name": "python3"
  },
  "language_info": {
   "codemirror_mode": {
    "name": "ipython",
    "version": 3
   },
   "file_extension": ".py",
   "mimetype": "text/x-python",
   "name": "python",
   "nbconvert_exporter": "python",
   "pygments_lexer": "ipython3",
   "version": "3.11.3"
  }
 },
 "nbformat": 4,
 "nbformat_minor": 2
}
