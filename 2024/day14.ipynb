{
 "cells": [
  {
   "cell_type": "code",
   "execution_count": 159,
   "metadata": {},
   "outputs": [],
   "source": [
    "import copy\n",
    "input = \"inputs/input14.txt\"\n",
    "with open(input, 'r') as file:\n",
    "    day_14_list = [[[int(num) for num in item.split('=')[1].split(',')] for item in line.strip().split(' ')] for line in file.readlines()]"
   ]
  },
  {
   "cell_type": "code",
   "execution_count": 160,
   "metadata": {},
   "outputs": [],
   "source": [
    "def day_14a(arr, seconds, width, height):\n",
    "    for i in range(0, seconds):\n",
    "        for _, robot in enumerate(arr):\n",
    "            robotPos = robot[0]\n",
    "            robotVel = robot[1]\n",
    "            robotPos[0] = (robotPos[0] + robotVel[0]) % width\n",
    "            robotPos[1] = (robotPos[1] + robotVel[1]) % height\n",
    "\n",
    "    finalPos = [0, 0, 0, 0]\n",
    "    middleY = (height - 1) / 2\n",
    "    middleX = (width - 1) / 2\n",
    "    for _, item in enumerate(arr):\n",
    "        if item[0][0] < middleX and item[0][1] < middleY:\n",
    "            finalPos[0] += 1\n",
    "        elif item[0][0] > middleX and item[0][1] < middleY:\n",
    "            finalPos[1] += 1\n",
    "        if item[0][0] < middleX and item[0][1] > middleY:\n",
    "            finalPos[2] += 1\n",
    "        if item[0][0] > middleX and item[0][1] > middleY:\n",
    "            finalPos[3] += 1\n",
    "    print(finalPos[0] * finalPos[1] * finalPos[2] * finalPos[3])"
   ]
  },
  {
   "cell_type": "code",
   "execution_count": 161,
   "metadata": {},
   "outputs": [],
   "source": [
    "def day_14b(arr):\n",
    "    print(arr)"
   ]
  },
  {
   "cell_type": "code",
   "execution_count": 162,
   "metadata": {},
   "outputs": [
    {
     "name": "stdout",
     "output_type": "stream",
     "text": [
      "230436441\n"
     ]
    }
   ],
   "source": [
    "day_14a(copy.deepcopy(day_14_list), 100, 101, 103)\n",
    "# day_14b(day_14_list)"
   ]
  },
  {
   "cell_type": "code",
   "execution_count": null,
   "metadata": {},
   "outputs": [],
   "source": []
  }
 ],
 "metadata": {
  "kernelspec": {
   "display_name": "Python 3",
   "language": "python",
   "name": "python3"
  },
  "language_info": {
   "codemirror_mode": {
    "name": "ipython",
    "version": 3
   },
   "file_extension": ".py",
   "mimetype": "text/x-python",
   "name": "python",
   "nbconvert_exporter": "python",
   "pygments_lexer": "ipython3",
   "version": "3.11.3"
  }
 },
 "nbformat": 4,
 "nbformat_minor": 2
}
