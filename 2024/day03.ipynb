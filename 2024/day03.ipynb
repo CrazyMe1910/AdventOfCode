{
 "cells": [
  {
   "cell_type": "code",
   "execution_count": 145,
   "metadata": {},
   "outputs": [],
   "source": [
    "input = \"inputs/input03.txt\"\n",
    "with open(input, 'r') as file:\n",
    "    day_03_string = str(file.read())"
   ]
  },
  {
   "cell_type": "code",
   "execution_count": 146,
   "metadata": {},
   "outputs": [],
   "source": [
    "def day_03a(code):\n",
    "    answer = 0\n",
    "    done = False\n",
    "\n",
    "    while not done:\n",
    "        firstIndex = code.find(\"mul(\") + 4\n",
    "        if firstIndex == 3:\n",
    "            done = True\n",
    "            break\n",
    "\n",
    "        secondIndex = code[firstIndex:].find(\")\") + firstIndex\n",
    "        if (secondIndex - firstIndex) > 7:\n",
    "            code = code[firstIndex:]\n",
    "        else:\n",
    "            mul = code[firstIndex:secondIndex]\n",
    "            if code.find(\",\") != -1:\n",
    "                nums = mul.split(\",\")\n",
    "                try:\n",
    "                    nums = [int(num) for num in nums]\n",
    "                    answer += (nums[0] * nums[1])\n",
    "                except:\n",
    "                    pass\n",
    "\n",
    "            code = code[secondIndex + 1:]\n",
    "\n",
    "    print(answer)"
   ]
  },
  {
   "cell_type": "code",
   "execution_count": null,
   "metadata": {},
   "outputs": [],
   "source": [
    "def day_03b(code):\n",
    "    answer = 0\n",
    "    doMul = True\n",
    "    done = False\n",
    "\n",
    "    while not done:\n",
    "        firstIndex = code.find(\"mul(\") + 4\n",
    "        if firstIndex == 3:\n",
    "            done = True\n",
    "            break\n",
    "\n",
    "        if not doMul:\n",
    "            firstIndexDo = code.find(\"do()\")\n",
    "            if firstIndexDo == -1:\n",
    "                done = True\n",
    "                break\n",
    "            doMul = True\n",
    "            code = code[firstIndexDo + 4:]\n",
    "        else:\n",
    "            firstIndexDont = float(\"inf\")\n",
    "            if code.find(\"don't()\") != -1:\n",
    "                firstIndexDont = code.find(\"don't()\")\n",
    "                \n",
    "            if min([firstIndex, firstIndexDont]) == firstIndex:\n",
    "                secondIndex = code[firstIndex:].find(\")\") + firstIndex\n",
    "                if (secondIndex - firstIndex) > 7:\n",
    "                    code = code[firstIndex:]\n",
    "                else:\n",
    "                    mul = code[firstIndex:secondIndex]\n",
    "                    if code.find(\",\") != -1:\n",
    "                        nums = mul.split(\",\")\n",
    "                        try:\n",
    "                            nums = [int(num) for num in nums]\n",
    "                            answer += (nums[0] * nums[1])\n",
    "                        except:\n",
    "                            pass\n",
    "\n",
    "                    code = code[secondIndex + 1:]\n",
    "            elif min([firstIndex, firstIndexDont]) == firstIndexDont:\n",
    "                doMul = False\n",
    "                code = code[firstIndexDont + 7:]\n",
    "\n",
    "\n",
    "    print(answer)"
   ]
  },
  {
   "cell_type": "code",
   "execution_count": null,
   "metadata": {},
   "outputs": [
    {
     "name": "stdout",
     "output_type": "stream",
     "text": [
      "163931492\n",
      "76911921\n"
     ]
    }
   ],
   "source": [
    "day_03a(day_03_string)\n",
    "day_03b(day_03_string)"
   ]
  },
  {
   "cell_type": "code",
   "execution_count": null,
   "metadata": {},
   "outputs": [],
   "source": []
  }
 ],
 "metadata": {
  "kernelspec": {
   "display_name": "Python 3",
   "language": "python",
   "name": "python3"
  },
  "language_info": {
   "codemirror_mode": {
    "name": "ipython",
    "version": 3
   },
   "file_extension": ".py",
   "mimetype": "text/x-python",
   "name": "python",
   "nbconvert_exporter": "python",
   "pygments_lexer": "ipython3",
   "version": "3.11.3"
  }
 },
 "nbformat": 4,
 "nbformat_minor": 2
}
