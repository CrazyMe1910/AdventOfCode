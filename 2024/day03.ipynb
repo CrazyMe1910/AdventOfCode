{
 "cells": [
  {
   "cell_type": "code",
   "execution_count": 89,
   "metadata": {},
   "outputs": [],
   "source": [
    "input = \"inputs/input03.txt\"\n",
    "with open(input, 'r') as file:\n",
    "    day_03_string = str(file.read())"
   ]
  },
  {
   "cell_type": "code",
   "execution_count": 90,
   "metadata": {},
   "outputs": [],
   "source": [
    "def day_03a(code):\n",
    "    answer = 0\n",
    "    done = False\n",
    "\n",
    "    while not done:\n",
    "        firstIndex = code.find(\"mul(\") + 4\n",
    "        if firstIndex == 3:\n",
    "            done = True\n",
    "            break\n",
    "\n",
    "        secondIndex = code[firstIndex:].find(\")\") + firstIndex\n",
    "        if (secondIndex - firstIndex) > 7:\n",
    "            code = code[firstIndex:]\n",
    "        else:\n",
    "            mul = code[firstIndex:secondIndex]\n",
    "            if code.find(\",\") != -1:\n",
    "                nums = mul.split(\",\")\n",
    "                try:\n",
    "                    nums = [int(num) for num in nums]\n",
    "                    answer += (nums[0] * nums[1])\n",
    "                except:\n",
    "                    pass\n",
    "\n",
    "            code = code[secondIndex + 1:]\n",
    "\n",
    "    print(answer)"
   ]
  },
  {
   "cell_type": "code",
   "execution_count": null,
   "metadata": {},
   "outputs": [
    {
     "ename": "SyntaxError",
     "evalue": "expected ':' (2674815087.py, line 29)",
     "output_type": "error",
     "traceback": [
      "\u001b[1;36m  Cell \u001b[1;32mIn[94], line 29\u001b[1;36m\u001b[0m\n\u001b[1;33m    elif min([firstIndex, firstIndexDo, firstIndexDont]) == firstIndex\u001b[0m\n\u001b[1;37m                                                                      ^\u001b[0m\n\u001b[1;31mSyntaxError\u001b[0m\u001b[1;31m:\u001b[0m expected ':'\n"
     ]
    }
   ],
   "source": [
    "def day_03b(code):\n",
    "    answer = 0\n",
    "    doMul = True\n",
    "    done = False\n",
    "\n",
    "    while not done:\n",
    "        firstIndex = code.find(\"mul(\") + 4\n",
    "        if firstIndex == 3:\n",
    "            done = True\n",
    "            break\n",
    "\n",
    "        if not doMul:\n",
    "            firstIndexDo = code.find(\"do()\")\n",
    "            if firstIndexDo == -1:\n",
    "                done = True\n",
    "                break\n",
    "            doMul = True\n",
    "            code = code[4:]\n",
    "        elif doMul:\n",
    "            firstIndexDont = code.find(\"don't()\") != -1 if code.find(\"don't()\") else int(\"inf\")\n",
    "            if min([firstIndex, firstIndexDont]) == firstIndex:\n",
    "                secondIndex = code[firstIndex:].find(\")\") + firstIndex\n",
    "                if (secondIndex - firstIndex) > 7:\n",
    "                    code = code[firstIndex:]\n",
    "                else:\n",
    "                    mul = code[firstIndex:secondIndex]\n",
    "                    if code.find(\",\") != -1:\n",
    "                        nums = mul.split(\",\")\n",
    "                        try:\n",
    "                            nums = [int(num) for num in nums]\n",
    "                            answer += (nums[0] * nums[1])\n",
    "                        except:\n",
    "                            pass\n",
    "\n",
    "                    code = code[secondIndex + 1:]\n",
    "            elif min([firstIndex, firstIndexDont]) == firstIndexDont:\n",
    "                doMul = False\n",
    "                code = code[7:]\n",
    "\n",
    "\n",
    "    print(answer)"
   ]
  },
  {
   "cell_type": "code",
   "execution_count": 95,
   "metadata": {},
   "outputs": [
    {
     "name": "stdout",
     "output_type": "stream",
     "text": [
      "161\n",
      "161\n"
     ]
    }
   ],
   "source": [
    "day_03a(day_03_string)\n",
    "day_03b(day_03_string)"
   ]
  },
  {
   "cell_type": "code",
   "execution_count": null,
   "metadata": {},
   "outputs": [],
   "source": []
  }
 ],
 "metadata": {
  "kernelspec": {
   "display_name": "Python 3",
   "language": "python",
   "name": "python3"
  },
  "language_info": {
   "codemirror_mode": {
    "name": "ipython",
    "version": 3
   },
   "file_extension": ".py",
   "mimetype": "text/x-python",
   "name": "python",
   "nbconvert_exporter": "python",
   "pygments_lexer": "ipython3",
   "version": "3.11.3"
  }
 },
 "nbformat": 4,
 "nbformat_minor": 2
}
