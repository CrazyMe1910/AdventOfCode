{
 "cells": [
  {
   "cell_type": "code",
   "execution_count": null,
   "metadata": {},
   "outputs": [],
   "source": [
    "input = \"inputs/input07.txt\"\n",
    "with open(input, 'r') as file:\n",
    "    day_07_list = [[int(line.strip().split(\": \")[0]), [int(num) for num in line.strip().split(\": \")[1].split(\" \")]] for line in file.readlines()]"
   ]
  },
  {
   "cell_type": "code",
   "execution_count": null,
   "metadata": {},
   "outputs": [],
   "source": [
    "def generate_combinations(symbols, length):\n",
    "    num_symbols = len(symbols)\n",
    "    num_combinations = num_symbols ** length  # Calculate k^n\n",
    "    combinations = []\n",
    "\n",
    "    for i in range(num_combinations):\n",
    "        # Convert the number i into base-k represented by the length of symbols\n",
    "        combination = []\n",
    "        num = i\n",
    "        \n",
    "        while len(combination) < length:\n",
    "            combination.append(symbols[num % num_symbols])\n",
    "            num //= num_symbols\n",
    "        \n",
    "        if num:\n",
    "            combination.append(symbols[num])  # Handle the case where num is not zero after loop\n",
    "        \n",
    "        # Since the digits are appended in reverse order, we need to reverse them\n",
    "        combinations.append(''.join(reversed(combination)))\n",
    "\n",
    "    return combinations"
   ]
  },
  {
   "cell_type": "code",
   "execution_count": null,
   "metadata": {},
   "outputs": [],
   "source": [
    "def day_07a(arr):\n",
    "    finalAnswer = 0\n",
    "    for i, row in enumerate(arr):\n",
    "        test_value = row[0]\n",
    "        check_values = row[1]\n",
    "        symbols = [\"+\", \"*\"]\n",
    "\n",
    "        combinations = generate_combinations(symbols, len(check_values) - 1)\n",
    "        for j, combi in enumerate(combinations):\n",
    "            answer = check_values[0]\n",
    "            for k, symbol in enumerate(combi):\n",
    "                answer = answer * check_values[k + 1] if symbol == \"*\" else answer + check_values[k + 1]\n",
    "            if answer == test_value:\n",
    "                finalAnswer += answer\n",
    "                break\n",
    "    print(finalAnswer)"
   ]
  },
  {
   "cell_type": "code",
   "execution_count": null,
   "metadata": {},
   "outputs": [],
   "source": [
    "def day_07b(arr):\n",
    "    finalAnswer = 0\n",
    "    for i, row in enumerate(arr):\n",
    "        test_value = row[0]\n",
    "        check_values = row[1]\n",
    "        symbols = [\"+\", \"*\", \"|\"]\n",
    "\n",
    "        combinations = generate_combinations(symbols, len(check_values) - 1)\n",
    "        for j, combi in enumerate(combinations):\n",
    "            answer = check_values[0]\n",
    "            for k, symbol in enumerate(combi):\n",
    "                answer = answer * check_values[k + 1] if symbol == \"*\" else answer + check_values[k + 1] if symbol == \"+\" else int(f\"{answer}{check_values[k + 1]}\")\n",
    "            if answer == test_value:\n",
    "                finalAnswer += answer\n",
    "                break\n",
    "    print(finalAnswer)"
   ]
  },
  {
   "cell_type": "code",
   "execution_count": null,
   "metadata": {},
   "outputs": [],
   "source": [
    "day_07a(day_07_list)\n",
    "day_07b(day_07_list)"
   ]
  },
  {
   "cell_type": "code",
   "execution_count": null,
   "metadata": {},
   "outputs": [],
   "source": []
  }
 ],
 "metadata": {
  "kernelspec": {
   "display_name": "Python 3",
   "language": "python",
   "name": "python3"
  },
  "language_info": {
   "codemirror_mode": {
    "name": "ipython",
    "version": 3
   },
   "file_extension": ".py",
   "mimetype": "text/x-python",
   "name": "python",
   "nbconvert_exporter": "python",
   "pygments_lexer": "ipython3",
   "version": "3.11.3"
  }
 },
 "nbformat": 4,
 "nbformat_minor": 2
}
