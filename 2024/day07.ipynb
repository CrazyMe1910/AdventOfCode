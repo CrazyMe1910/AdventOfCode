{
 "cells": [
  {
   "cell_type": "code",
   "execution_count": 202,
   "metadata": {},
   "outputs": [],
   "source": [
    "input = \"inputs/input07.txt\"\n",
    "with open(input, 'r') as file:\n",
    "    day_07_list = [[int(line.strip().split(\": \")[0]), [int(num) for num in line.strip().split(\": \")[1].split(\" \")]] for line in file.readlines()]"
   ]
  },
  {
   "cell_type": "code",
   "execution_count": 203,
   "metadata": {},
   "outputs": [],
   "source": [
    "def generate_combinations(symbols, length):\n",
    "    num_symbols = len(symbols)\n",
    "    num_combinations = num_symbols ** length  # Calculate k^n\n",
    "    combinations = []\n",
    "\n",
    "    for i in range(num_combinations):\n",
    "        # Convert the number i into base-k represented by the length of symbols\n",
    "        combination = []\n",
    "        num = i\n",
    "        \n",
    "        while len(combination) < length:\n",
    "            combination.append(symbols[num % num_symbols])\n",
    "            num //= num_symbols\n",
    "        \n",
    "        if num:\n",
    "            combination.append(symbols[num])  # Handle the case where num is not zero after loop\n",
    "        \n",
    "        # Since the digits are appended in reverse order, we need to reverse them\n",
    "        combinations.append(''.join(reversed(combination)))\n",
    "\n",
    "    return combinations"
   ]
  },
  {
   "cell_type": "code",
   "execution_count": 204,
   "metadata": {},
   "outputs": [],
   "source": [
    "def day_07a(arr):\n",
    "    finalAnswer = 0\n",
    "    for i, row in enumerate(arr):\n",
    "        test_value = row[0]\n",
    "        check_values = row[1]\n",
    "        symbols = [\"+\", \"*\"]\n",
    "\n",
    "        combinations = generate_combinations(symbols, len(check_values) - 1)\n",
    "        for j, combi in enumerate(combinations):\n",
    "            answer = check_values[0]\n",
    "            for k, symbol in enumerate(combi):\n",
    "                answer = answer * check_values[k + 1] if symbol == \"*\" else answer + check_values[k + 1]\n",
    "            if answer == test_value:\n",
    "                finalAnswer += answer\n",
    "                break\n",
    "    print(finalAnswer)"
   ]
  },
  {
   "cell_type": "code",
   "execution_count": 205,
   "metadata": {},
   "outputs": [],
   "source": [
    "def day_07b(arr):\n",
    "    finalAnswer = 0\n",
    "    for i, row in enumerate(arr):\n",
    "        test_value = row[0]\n",
    "        check_values = row[1]\n",
    "        symbols = [\"+\", \"*\", \"|\"]\n",
    "\n",
    "        combinations = generate_combinations(symbols, len(check_values) - 1)\n",
    "        for j, combi in enumerate(combinations):\n",
    "            answer = check_values[0]\n",
    "            for k, symbol in enumerate(combi):\n",
    "                answer = answer * check_values[k + 1] if symbol == \"*\" else answer + check_values[k + 1] if symbol == \"+\" else int(f\"{answer}{check_values[k + 1]}\")\n",
    "            if answer == test_value:\n",
    "                finalAnswer += answer\n",
    "                break\n",
    "    print(finalAnswer)"
   ]
  },
  {
   "cell_type": "code",
   "execution_count": 206,
   "metadata": {},
   "outputs": [
    {
     "name": "stdout",
     "output_type": "stream",
     "text": [
      "5030892084481\n"
     ]
    },
    {
     "ename": "KeyboardInterrupt",
     "evalue": "",
     "output_type": "error",
     "traceback": [
      "\u001b[1;31m---------------------------------------------------------------------------\u001b[0m",
      "\u001b[1;31mKeyboardInterrupt\u001b[0m                         Traceback (most recent call last)",
      "Cell \u001b[1;32mIn[206], line 2\u001b[0m\n\u001b[0;32m      1\u001b[0m day_07a(day_07_list)\n\u001b[1;32m----> 2\u001b[0m \u001b[43mday_07b\u001b[49m\u001b[43m(\u001b[49m\u001b[43mday_07_list\u001b[49m\u001b[43m)\u001b[49m\n",
      "Cell \u001b[1;32mIn[205], line 8\u001b[0m, in \u001b[0;36mday_07b\u001b[1;34m(arr)\u001b[0m\n\u001b[0;32m      5\u001b[0m check_values \u001b[38;5;241m=\u001b[39m row[\u001b[38;5;241m1\u001b[39m]\n\u001b[0;32m      6\u001b[0m symbols \u001b[38;5;241m=\u001b[39m [\u001b[38;5;124m\"\u001b[39m\u001b[38;5;124m+\u001b[39m\u001b[38;5;124m\"\u001b[39m, \u001b[38;5;124m\"\u001b[39m\u001b[38;5;124m*\u001b[39m\u001b[38;5;124m\"\u001b[39m, \u001b[38;5;124m\"\u001b[39m\u001b[38;5;124m|\u001b[39m\u001b[38;5;124m\"\u001b[39m]\n\u001b[1;32m----> 8\u001b[0m combinations \u001b[38;5;241m=\u001b[39m \u001b[43mgenerate_combinations\u001b[49m\u001b[43m(\u001b[49m\u001b[43msymbols\u001b[49m\u001b[43m,\u001b[49m\u001b[43m \u001b[49m\u001b[38;5;28;43mlen\u001b[39;49m\u001b[43m(\u001b[49m\u001b[43mcheck_values\u001b[49m\u001b[43m)\u001b[49m\u001b[43m \u001b[49m\u001b[38;5;241;43m-\u001b[39;49m\u001b[43m \u001b[49m\u001b[38;5;241;43m1\u001b[39;49m\u001b[43m)\u001b[49m\n\u001b[0;32m      9\u001b[0m \u001b[38;5;28;01mfor\u001b[39;00m j, combi \u001b[38;5;129;01min\u001b[39;00m \u001b[38;5;28menumerate\u001b[39m(combinations):\n\u001b[0;32m     10\u001b[0m     answer \u001b[38;5;241m=\u001b[39m check_values[\u001b[38;5;241m0\u001b[39m]\n",
      "Cell \u001b[1;32mIn[203], line 11\u001b[0m, in \u001b[0;36mgenerate_combinations\u001b[1;34m(symbols, length)\u001b[0m\n\u001b[0;32m      8\u001b[0m combination \u001b[38;5;241m=\u001b[39m []\n\u001b[0;32m      9\u001b[0m num \u001b[38;5;241m=\u001b[39m i\n\u001b[1;32m---> 11\u001b[0m \u001b[38;5;28;01mwhile\u001b[39;00m \u001b[38;5;28;43mlen\u001b[39;49m\u001b[43m(\u001b[49m\u001b[43mcombination\u001b[49m\u001b[43m)\u001b[49m\u001b[43m \u001b[49m\u001b[38;5;241;43m<\u001b[39;49m\u001b[43m \u001b[49m\u001b[43mlength\u001b[49m:\n\u001b[0;32m     12\u001b[0m     combination\u001b[38;5;241m.\u001b[39mappend(symbols[num \u001b[38;5;241m%\u001b[39m num_symbols])\n\u001b[0;32m     13\u001b[0m     num \u001b[38;5;241m/\u001b[39m\u001b[38;5;241m/\u001b[39m\u001b[38;5;241m=\u001b[39m num_symbols\n",
      "\u001b[1;31mKeyboardInterrupt\u001b[0m: "
     ]
    }
   ],
   "source": [
    "day_07a(day_07_list)\n",
    "day_07b(day_07_list)"
   ]
  },
  {
   "cell_type": "code",
   "execution_count": null,
   "metadata": {},
   "outputs": [],
   "source": []
  }
 ],
 "metadata": {
  "kernelspec": {
   "display_name": "Python 3",
   "language": "python",
   "name": "python3"
  },
  "language_info": {
   "codemirror_mode": {
    "name": "ipython",
    "version": 3
   },
   "file_extension": ".py",
   "mimetype": "text/x-python",
   "name": "python",
   "nbconvert_exporter": "python",
   "pygments_lexer": "ipython3",
   "version": "3.11.3"
  }
 },
 "nbformat": 4,
 "nbformat_minor": 2
}
