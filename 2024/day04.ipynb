{
 "cells": [
  {
   "cell_type": "code",
   "execution_count": 225,
   "metadata": {},
   "outputs": [],
   "source": [
    "input = \"inputs/input04.txt\"\n",
    "with open(input, 'r') as file:\n",
    "    day_04_list = [line.strip() for line in file.readlines()]"
   ]
  },
  {
   "cell_type": "code",
   "execution_count": 226,
   "metadata": {},
   "outputs": [],
   "source": [
    "def day_04a(arr):\n",
    "    # columns prep\n",
    "    cols = []\n",
    "    for i, row in enumerate(arr):\n",
    "        newCol = \"\"\n",
    "        for j, col in enumerate(row):\n",
    "            newCol += arr[j][i]\n",
    "        cols += [newCol]\n",
    "\n",
    "    # diagonals prep\n",
    "    diagonals = []\n",
    "    for i, row in enumerate(arr):\n",
    "        if i == 0:\n",
    "            startJ = 0\n",
    "            endJ = len(row) - 3\n",
    "\n",
    "            for k in range(startJ, endJ):\n",
    "                firstDiagonals = \"\"\n",
    "                rowCount = 0\n",
    "                for l in range(k, len(row)):\n",
    "                    firstDiagonals += arr[rowCount][l]\n",
    "                    rowCount += 1\n",
    "                diagonals += [firstDiagonals]\n",
    "        elif i < len(arr) - 3:\n",
    "            secondDiagonals = \"\"\n",
    "            rowCount = i\n",
    "            colCount = 0\n",
    "            for m in range(i, len(row)):\n",
    "                secondDiagonals += arr[m][colCount]\n",
    "                colCount += 1\n",
    "            diagonals += [secondDiagonals]\n",
    "    \n",
    "    # inversed diagonals prep\n",
    "    for i, row in enumerate(arr):\n",
    "        if i == 0:\n",
    "            startJ = 3\n",
    "            endJ = len(row)\n",
    "\n",
    "            for k in range(startJ, endJ):\n",
    "                thirdDiagonals = \"\"\n",
    "                rowCount = k\n",
    "                for l in range(0, k + 1):\n",
    "                    thirdDiagonals += arr[rowCount][l]\n",
    "                    rowCount -= 1\n",
    "                diagonals += [thirdDiagonals]\n",
    "        elif i < len(arr) - 3:\n",
    "            fourthDiagonals = \"\"\n",
    "            rowCount = i\n",
    "            colCount = len(row) - 1\n",
    "            for m in range(i, len(row)):\n",
    "                fourthDiagonals += arr[m][colCount]\n",
    "                colCount -= 1\n",
    "            diagonals += [fourthDiagonals]\n",
    "\n",
    "    answer = 0\n",
    "    \n",
    "    # rows\n",
    "    for _, row in enumerate(arr):\n",
    "        # print(row)\n",
    "        answer += row.count(\"XMAS\")\n",
    "        answer += row.count(\"SAMX\")\n",
    "\n",
    "    # columns\n",
    "    for _, row in enumerate(cols):\n",
    "        answer += row.count(\"XMAS\")\n",
    "        answer += row.count(\"SAMX\")\n",
    "\n",
    "    # diagonals\n",
    "    for _, row in enumerate(diagonals):\n",
    "        answer += row.count(\"XMAS\")\n",
    "        answer += row.count(\"SAMX\")\n",
    "\n",
    "    print(answer)"
   ]
  },
  {
   "cell_type": "code",
   "execution_count": null,
   "metadata": {},
   "outputs": [],
   "source": [
    "def day_04b(arr):\n",
    "    answer = 0\n",
    "\n",
    "    approvedXMASses = [\"MMSS\", \"MSSM\", \"SSMM\", \"SMMS\"]\n",
    "    for i in range(1, len(arr) - 1):\n",
    "        for j in range(1, len(arr[i]) - 1):\n",
    "            if arr[i][j] == \"A\":\n",
    "                xmas = f\"{arr[i - 1][j - 1]}{arr[i - 1][j + 1]}{arr[i + 1][j + 1]}{arr[i + 1][j - 1]}\"\n",
    "                answer += 1 if xmas in approvedXMASses else 0\n",
    "    \n",
    "    print(answer)"
   ]
  },
  {
   "cell_type": "code",
   "execution_count": 230,
   "metadata": {},
   "outputs": [
    {
     "name": "stdout",
     "output_type": "stream",
     "text": [
      "2578\n",
      "1972\n"
     ]
    }
   ],
   "source": [
    "day_04a(day_04_list)\n",
    "day_04b(day_04_list)"
   ]
  },
  {
   "cell_type": "code",
   "execution_count": null,
   "metadata": {},
   "outputs": [],
   "source": []
  }
 ],
 "metadata": {
  "kernelspec": {
   "display_name": "Python 3",
   "language": "python",
   "name": "python3"
  },
  "language_info": {
   "codemirror_mode": {
    "name": "ipython",
    "version": 3
   },
   "file_extension": ".py",
   "mimetype": "text/x-python",
   "name": "python",
   "nbconvert_exporter": "python",
   "pygments_lexer": "ipython3",
   "version": "3.11.3"
  }
 },
 "nbformat": 4,
 "nbformat_minor": 2
}
