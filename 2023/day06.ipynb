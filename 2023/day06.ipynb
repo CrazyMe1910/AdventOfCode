{
 "cells": [
  {
   "cell_type": "code",
   "execution_count": 160,
   "metadata": {},
   "outputs": [],
   "source": [
    "# Functie om een tekstreeks om te zetten naar arrays\n",
    "def txt_to_arrays(file_path):\n",
    "    with open(file_path, 'r') as file:\n",
    "        txt = file.read()\n",
    "\n",
    "\n",
    "    # Splitsen op witregels om groepen te krijgen\n",
    "    groups = txt.strip().split('\\n\\n')\n",
    "\n",
    "    # Arrays voor elke groep\n",
    "    arrays = []\n",
    "    for group in groups:\n",
    "        # Verwijder witregels en splitsen op regels\n",
    "        lines = group.strip().split('\\n')\n",
    "\n",
    "        # Array voor huidige groep\n",
    "        current_array = []\n",
    "\n",
    "        for line in lines:\n",
    "            # Controleer of de tekstregel numerieke gegevens bevat\n",
    "            if any(char.isdigit() for char in line):\n",
    "                # Splits de tekstlijn en converteer naar een lijst van integers\n",
    "                numbers = list(map(int, line.split()))\n",
    "                current_array.append(numbers)\n",
    "\n",
    "        # Voeg de huidige groep toe aan de lijst van arrays\n",
    "        arrays.append(current_array[0])\n",
    "\n",
    "    return arrays"
   ]
  },
  {
   "cell_type": "code",
   "execution_count": 161,
   "metadata": {},
   "outputs": [],
   "source": [
    "# Functie om een tekstreeks om te zetten naar arrays\n",
    "def txt_to_arrays_part2(file_path):\n",
    "    with open(file_path, 'r') as file:\n",
    "        txt = file.read()\n",
    "\n",
    "\n",
    "    # Splitsen op witregels om groepen te krijgen\n",
    "    groups = txt.strip().split('\\n\\n')\n",
    "\n",
    "    # Arrays voor elke groep\n",
    "    arrays = []\n",
    "    for group in groups:\n",
    "        # Verwijder witregels en splitsen op regels\n",
    "        lines = group.strip().split('\\n')\n",
    "\n",
    "        # Array voor huidige groep\n",
    "        current_array = []\n",
    "\n",
    "        for line in lines:\n",
    "            current_array.append(int(line.replace(\" \", \"\")))\n",
    "        arrays.append(current_array[0])\n",
    "\n",
    "    return arrays"
   ]
  },
  {
   "cell_type": "code",
   "execution_count": 162,
   "metadata": {},
   "outputs": [],
   "source": [
    "input = \"inputs/input06.txt\"\n",
    "with open(input, 'r') as file:\n",
    "    day_06_list = [line.strip() for line in file.readlines()]"
   ]
  },
  {
   "cell_type": "code",
   "execution_count": 163,
   "metadata": {},
   "outputs": [],
   "source": [
    "def day_06_part_01():\n",
    "    arr = (txt_to_arrays(input))\n",
    "    recordBeatings = 1\n",
    "    for i, time in enumerate(arr[0]):\n",
    "        record = arr[1][i]\n",
    "        newRecords = 0\n",
    "        for j in range(0, (time + 1)):\n",
    "            if ((time - j) * j) > record:\n",
    "                newRecords += 1\n",
    "        recordBeatings *= newRecords\n",
    "    print(recordBeatings)"
   ]
  },
  {
   "cell_type": "code",
   "execution_count": 164,
   "metadata": {},
   "outputs": [],
   "source": [
    "def day_06_part_02(arr):\n",
    "    arr = txt_to_arrays_part2(input)\n",
    "    newRecords = 0\n",
    "    for j in range(0, (arr[0] + 1)):\n",
    "        if ((arr[0] - j) * j) > arr[1]:\n",
    "            newRecords = (arr[0] - j) - (j - 1)\n",
    "            break\n",
    "    print(newRecords)"
   ]
  },
  {
   "cell_type": "code",
   "execution_count": 165,
   "metadata": {},
   "outputs": [
    {
     "name": "stdout",
     "output_type": "stream",
     "text": [
      "2612736\n",
      "29891250\n"
     ]
    }
   ],
   "source": [
    "day_06_part_01()\n",
    "day_06_part_02(day_06_list)"
   ]
  },
  {
   "cell_type": "code",
   "execution_count": null,
   "metadata": {},
   "outputs": [],
   "source": []
  }
 ],
 "metadata": {
  "kernelspec": {
   "display_name": "Python 3",
   "language": "python",
   "name": "python3"
  },
  "language_info": {
   "codemirror_mode": {
    "name": "ipython",
    "version": 3
   },
   "file_extension": ".py",
   "mimetype": "text/x-python",
   "name": "python",
   "nbconvert_exporter": "python",
   "pygments_lexer": "ipython3",
   "version": "3.11.3"
  }
 },
 "nbformat": 4,
 "nbformat_minor": 2
}
