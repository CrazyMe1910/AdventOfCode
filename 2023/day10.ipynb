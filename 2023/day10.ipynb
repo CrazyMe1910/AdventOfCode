{
 "cells": [
  {
   "cell_type": "code",
   "execution_count": 174,
   "metadata": {},
   "outputs": [],
   "source": [
    "input = \"inputs/input10.txt\"\n",
    "with open(input, 'r') as file:\n",
    "    day_10_list = [line.strip() for line in file.readlines()]"
   ]
  },
  {
   "cell_type": "code",
   "execution_count": 178,
   "metadata": {},
   "outputs": [],
   "source": [
    "def day_10_part_01(arr):\n",
    "    startPos = []\n",
    "    for i, row in enumerate(arr):\n",
    "        index = row.index('S') if 'S' in row else -1\n",
    "        if index != -1:\n",
    "            startPos = [i, index]\n",
    "    \n",
    "    northSymbols = [['S', '|', 'L', 'J'], ['S', '|', '7', 'F']]\n",
    "    eastSymbols = [['S', '-', 'L', 'F'], ['S', '-', '7', 'J']]\n",
    "    southSymbols = [['S', '|', '7', 'F'], ['S', '|', 'L', 'J']]\n",
    "    westSymbols = [['S', '-', '7', 'J'], ['S', '-', 'L', 'F']]\n",
    "\n",
    "    loopPos = []\n",
    "    prevPos = []\n",
    "    currPos = startPos\n",
    "    while True:\n",
    "        tempPos = prevPos\n",
    "        prevPos = currPos\n",
    "        loopPos.append(currPos)\n",
    "        if arr[currPos[0] - 1][currPos[1]] in northSymbols[1] and [currPos[0] - 1, currPos[1]] != tempPos and arr[currPos[0]][currPos[1]] in northSymbols[0]:\n",
    "            # print(\"North\")\n",
    "            currPos = [currPos[0] - 1, currPos[1]]\n",
    "        elif arr[currPos[0]][currPos[1] + 1] in eastSymbols[1] and [currPos[0], currPos[1] + 1] != tempPos and arr[currPos[0]][currPos[1]] in eastSymbols[0]:\n",
    "            # print(\"East\")\n",
    "            currPos = [currPos[0], currPos[1] + 1]\n",
    "        elif arr[currPos[0] + 1][currPos[1]] in southSymbols[1] and [currPos[0] + 1, currPos[1]] != tempPos and arr[currPos[0]][currPos[1]] in southSymbols[0]:\n",
    "            # print(\"South\")\n",
    "            currPos = [currPos[0] + 1, currPos[1]]\n",
    "        elif arr[currPos[0]][currPos[1] - 1] in westSymbols[1] and [currPos[0], currPos[1] - 1] != tempPos and arr[currPos[0]][currPos[1]] in westSymbols[0]:\n",
    "            # print(\"West\")\n",
    "            currPos = [currPos[0], currPos[1] - 1]\n",
    "\n",
    "        if currPos == startPos:\n",
    "            break\n",
    "        \n",
    "    print(int(len(loopPos) / 2))"
   ]
  },
  {
   "cell_type": "code",
   "execution_count": 179,
   "metadata": {},
   "outputs": [],
   "source": [
    "def day_10_part_02(arr):\n",
    "    print(arr)"
   ]
  },
  {
   "cell_type": "code",
   "execution_count": 180,
   "metadata": {},
   "outputs": [
    {
     "name": "stdout",
     "output_type": "stream",
     "text": [
      "6860\n"
     ]
    }
   ],
   "source": [
    "day_10_part_01(day_10_list)\n",
    "# day_10_part_02(day_10_list)"
   ]
  },
  {
   "cell_type": "code",
   "execution_count": null,
   "metadata": {},
   "outputs": [],
   "source": []
  }
 ],
 "metadata": {
  "kernelspec": {
   "display_name": "Python 3",
   "language": "python",
   "name": "python3"
  },
  "language_info": {
   "codemirror_mode": {
    "name": "ipython",
    "version": 3
   },
   "file_extension": ".py",
   "mimetype": "text/x-python",
   "name": "python",
   "nbconvert_exporter": "python",
   "pygments_lexer": "ipython3",
   "version": "3.11.3"
  }
 },
 "nbformat": 4,
 "nbformat_minor": 2
}
