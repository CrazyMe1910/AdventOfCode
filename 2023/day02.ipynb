{
 "cells": [
  {
   "cell_type": "code",
   "execution_count": 44,
   "metadata": {},
   "outputs": [],
   "source": [
    "input = \"inputs/input02.txt\"\n",
    "with open(input, 'r') as file:\n",
    "    day_02_list = [line.strip() for line in file.readlines()]"
   ]
  },
  {
   "cell_type": "code",
   "execution_count": 45,
   "metadata": {},
   "outputs": [],
   "source": [
    "def day_02_part_01(arrays):\n",
    "    gamesArray = []\n",
    "    for l, arr in enumerate(arrays):\n",
    "        gamesArray.append(arr.split(\": \")[1])\n",
    "    totalGameIDSum = 0\n",
    "    cubeMeasurement = {\n",
    "        \"red\": 12,\n",
    "        \"green\": 13,\n",
    "        \"blue\": 14,\n",
    "    }\n",
    "    for i, game in enumerate(gamesArray):\n",
    "        possible = True\n",
    "        sets = game.split(\"; \")\n",
    "        for j, set in enumerate (sets):\n",
    "            combinations = set.split(\", \")\n",
    "            for k, combi in enumerate(combinations):\n",
    "                numColor = combi.split(\" \")\n",
    "                if int(numColor[0]) > cubeMeasurement[numColor[1]]:\n",
    "                    possible = False\n",
    "        if possible:\n",
    "            totalGameIDSum += (i + 1)\n",
    "    print(totalGameIDSum)"
   ]
  },
  {
   "cell_type": "code",
   "execution_count": 46,
   "metadata": {},
   "outputs": [],
   "source": [
    "def day_02_part_02(arrays):\n",
    "    gamesArray = []\n",
    "    for l, arr in enumerate(arrays):\n",
    "        gamesArray.append(arr.split(\": \")[1])\n",
    "    totalGamePower = 0\n",
    "    for i, game in enumerate(gamesArray):\n",
    "        lowestCubePossibles = {\n",
    "            \"red\": 999999999999,\n",
    "            \"green\": 999999999999,\n",
    "            \"blue\": 999999999999,\n",
    "        }\n",
    "        sets = game.split(\"; \")\n",
    "        for j, set in enumerate (sets):\n",
    "            combinations = set.split(\", \")\n",
    "            for k, combi in enumerate(combinations):\n",
    "                numColor = combi.split(\" \")\n",
    "                if (lowestCubePossibles[numColor[1]] <= int(numColor[0])) or (lowestCubePossibles[numColor[1]] == 999999999999):\n",
    "                    lowestCubePossibles[numColor[1]] = int(numColor[0])\n",
    "        gamePower = 1\n",
    "        for num in lowestCubePossibles.values():\n",
    "            gamePower *= num\n",
    "        totalGamePower += gamePower\n",
    "    print(totalGamePower)"
   ]
  },
  {
   "cell_type": "code",
   "execution_count": 47,
   "metadata": {},
   "outputs": [
    {
     "name": "stdout",
     "output_type": "stream",
     "text": [
      "2683\n",
      "49710\n"
     ]
    }
   ],
   "source": [
    "day_02_part_01(day_02_list)\n",
    "day_02_part_02(day_02_list)"
   ]
  },
  {
   "cell_type": "code",
   "execution_count": null,
   "metadata": {},
   "outputs": [],
   "source": []
  }
 ],
 "metadata": {
  "kernelspec": {
   "display_name": "Python 3",
   "language": "python",
   "name": "python3"
  },
  "language_info": {
   "codemirror_mode": {
    "name": "ipython",
    "version": 3
   },
   "file_extension": ".py",
   "mimetype": "text/x-python",
   "name": "python",
   "nbconvert_exporter": "python",
   "pygments_lexer": "ipython3",
   "version": "3.11.3"
  }
 },
 "nbformat": 4,
 "nbformat_minor": 2
}
