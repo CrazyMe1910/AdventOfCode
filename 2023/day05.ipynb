{
 "cells": [
  {
   "cell_type": "code",
   "execution_count": 1,
   "metadata": {},
   "outputs": [],
   "source": [
    "# Functie om een tekstreeks om te zetten naar arrays\n",
    "def txt_to_arrays(file_path):\n",
    "    with open(file_path, 'r') as file:\n",
    "        txt = file.read()\n",
    "\n",
    "\n",
    "    # Splitsen op witregels om groepen te krijgen\n",
    "    groups = txt.strip().split('\\n\\n')\n",
    "\n",
    "    # Arrays voor elke groep\n",
    "    arrays = []\n",
    "\n",
    "    for group in groups:\n",
    "        # Verwijder witregels en splitsen op regels\n",
    "        lines = group.strip().split('\\n')\n",
    "\n",
    "        # Array voor huidige groep\n",
    "        current_array = []\n",
    "\n",
    "        for line in lines:\n",
    "            # Controleer of de tekstregel numerieke gegevens bevat\n",
    "            if any(char.isdigit() for char in line):\n",
    "                # Splits de tekstlijn en converteer naar een lijst van integers\n",
    "                numbers = list(map(int, line.split()))\n",
    "                current_array.append(numbers)\n",
    "\n",
    "        # Voeg de huidige groep toe aan de lijst van arrays\n",
    "        arrays.append(current_array)\n",
    "\n",
    "    return arrays"
   ]
  },
  {
   "cell_type": "code",
   "execution_count": 2,
   "metadata": {},
   "outputs": [],
   "source": [
    "input = \"inputs/input05.txt\"\n",
    "with open(input, 'r') as file:\n",
    "    day_05_list = [line.strip() for line in file.readlines()]"
   ]
  },
  {
   "cell_type": "code",
   "execution_count": 3,
   "metadata": {},
   "outputs": [],
   "source": [
    "def day_05_part_01(arr):\n",
    "    arrays = txt_to_arrays(input) \n",
    "    tempSeeds = arrays[0][0]\n",
    "    seeds = {}\n",
    "    result = None\n",
    "    for h, seed in enumerate(tempSeeds):\n",
    "        seeds[h] = [seed, False]\n",
    "\n",
    "    rounds = arrays[1:]\n",
    "    for i, round in enumerate(rounds):\n",
    "        for j, seed in seeds.items():\n",
    "            for k, converter in enumerate(round):\n",
    "                # print(seed, converter)\n",
    "                if not seed[1]:\n",
    "                    if converter[1] <= seed[0] <= (converter[2] + converter[1]):\n",
    "                        seed[1] = True\n",
    "                        seed[0] = (converter[0] + (seed[0] - converter[1]))\n",
    "        for l, seed in seeds.items():\n",
    "            seed[1] = False\n",
    "    for m, seed in seeds.items():\n",
    "        if result == None:\n",
    "            result = seed[0]\n",
    "        elif result > seed[0]:\n",
    "            result = seed[0]\n",
    "    print(result)"
   ]
  },
  {
   "cell_type": "code",
   "execution_count": 4,
   "metadata": {},
   "outputs": [],
   "source": [
    "def day_05_part_02(arr):\n",
    "    arrays = txt_to_arrays(input) \n",
    "    tempSeeds = arrays[0][0]\n",
    "    seeds = {}\n",
    "    result = None\n",
    "    for h, seed in enumerate(tempSeeds):\n",
    "        if h % 2 == 0:\n",
    "            for n in range(seed, seed + tempSeeds[h + 1]):\n",
    "                seeds[n] = [n, False]\n",
    "    print(\"seeding done\")\n",
    "    rounds = arrays[1:]\n",
    "    for i, round in enumerate(rounds):\n",
    "        for j, seed in seeds.items():\n",
    "            for k, converter in enumerate(round):\n",
    "                # print(seed, converter)\n",
    "                if not seed[1]:\n",
    "                    if converter[1] <= seed[0] <= (converter[2] + converter[1]):\n",
    "                        seed[1] = True\n",
    "                        seed[0] = (converter[0] + (seed[0] - converter[1]))\n",
    "        for l, seed in seeds.items():\n",
    "            seed[1] = False\n",
    "    for m, seed in seeds.items():\n",
    "        if result == None:\n",
    "            result = seed[0]\n",
    "        elif result > seed[0]:\n",
    "            result = seed[0]\n",
    "    print(result)"
   ]
  },
  {
   "cell_type": "code",
   "execution_count": 5,
   "metadata": {},
   "outputs": [
    {
     "name": "stdout",
     "output_type": "stream",
     "text": [
      "621354867\n"
     ]
    }
   ],
   "source": [
    "day_05_part_01(day_05_list)\n",
    "# day_05_part_02(day_05_list) # Bit overkill!!! at least more then 2 minutes for seeding only"
   ]
  },
  {
   "cell_type": "code",
   "execution_count": null,
   "metadata": {},
   "outputs": [],
   "source": []
  }
 ],
 "metadata": {
  "kernelspec": {
   "display_name": "Python 3",
   "language": "python",
   "name": "python3"
  },
  "language_info": {
   "codemirror_mode": {
    "name": "ipython",
    "version": 3
   },
   "file_extension": ".py",
   "mimetype": "text/x-python",
   "name": "python",
   "nbconvert_exporter": "python",
   "pygments_lexer": "ipython3",
   "version": "3.11.3"
  }
 },
 "nbformat": 4,
 "nbformat_minor": 2
}
