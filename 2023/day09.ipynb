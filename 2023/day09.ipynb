{
 "cells": [
  {
   "cell_type": "code",
   "execution_count": 172,
   "metadata": {},
   "outputs": [],
   "source": [
    "input = \"inputs/input09.txt\"\n",
    "with open(input, 'r') as file:\n",
    "    day_09_list = [list(map(int, line.strip().split())) for line in file.readlines()]"
   ]
  },
  {
   "cell_type": "code",
   "execution_count": 173,
   "metadata": {},
   "outputs": [],
   "source": [
    "def day_09_part_01():\n",
    "    input = \"inputs/input09.txt\"\n",
    "    with open(input, 'r') as file:\n",
    "        arr = [list(map(int, line.strip().split())) for line in file.readlines()]\n",
    "\n",
    "    extrapolatedValues = []\n",
    "    for sequence in arr:\n",
    "        totalSequence = [sequence]\n",
    "        currSeq = sequence\n",
    "        newSeq = []\n",
    "        endIsReached = False\n",
    "        while not endIsReached:\n",
    "            for i in range(0, len(currSeq) - 1):\n",
    "                # print(i, currSeq[i])\n",
    "                newSeq.append(currSeq[i + 1] - currSeq[i])\n",
    "            \n",
    "            if all([key == 0 for key in newSeq]):\n",
    "                endIsReached = True\n",
    "            \n",
    "            totalSequence.insert(0, newSeq)\n",
    "            currSeq = newSeq\n",
    "            newSeq = []\n",
    "        \n",
    "        numToAdd = 0\n",
    "        for j, finalSequence in enumerate(totalSequence):\n",
    "            if j != 0:\n",
    "                numToAdd = finalSequence[-1] + numToAdd\n",
    "                totalSequence[j].append(numToAdd)\n",
    "                if j == len(totalSequence) - 1:\n",
    "                    extrapolatedValues.append(numToAdd)\n",
    "\n",
    "    print(sum(extrapolatedValues))"
   ]
  },
  {
   "cell_type": "code",
   "execution_count": 174,
   "metadata": {},
   "outputs": [],
   "source": [
    "def day_09_part_02():\n",
    "    input = \"inputs/input09.txt\"\n",
    "    with open(input, 'r') as file:\n",
    "        arr = [list(map(int, line.strip().split())) for line in file.readlines()]\n",
    "\n",
    "    extrapolatedValues = []\n",
    "    for sequence in arr:\n",
    "        totalSequence = [sequence]\n",
    "        currSeq = sequence\n",
    "        newSeq = []\n",
    "        endIsReached = False\n",
    "        while not endIsReached:\n",
    "            for i in range(0, len(currSeq) - 1):\n",
    "                # print(i, currSeq[i])\n",
    "                newSeq.append(currSeq[i + 1] - currSeq[i])\n",
    "            \n",
    "            if all([key == 0 for key in newSeq]):\n",
    "                endIsReached = True\n",
    "            \n",
    "            totalSequence.insert(0, newSeq)\n",
    "            currSeq = newSeq\n",
    "            newSeq = []\n",
    "        \n",
    "        numToAdd = 0\n",
    "        for j, finalSequence in enumerate(totalSequence):\n",
    "            if j != 0:\n",
    "                numToAdd = finalSequence[0] - numToAdd\n",
    "                totalSequence[j].insert(0, numToAdd)\n",
    "                if j == len(totalSequence) - 1:\n",
    "                    extrapolatedValues.append(numToAdd)\n",
    "\n",
    "    print(sum(extrapolatedValues))"
   ]
  },
  {
   "cell_type": "code",
   "execution_count": 176,
   "metadata": {},
   "outputs": [
    {
     "name": "stdout",
     "output_type": "stream",
     "text": [
      "1725987467\n",
      "971\n"
     ]
    }
   ],
   "source": [
    "day_09_part_01()\n",
    "day_09_part_02()"
   ]
  },
  {
   "cell_type": "code",
   "execution_count": null,
   "metadata": {},
   "outputs": [],
   "source": []
  }
 ],
 "metadata": {
  "kernelspec": {
   "display_name": "Python 3",
   "language": "python",
   "name": "python3"
  },
  "language_info": {
   "codemirror_mode": {
    "name": "ipython",
    "version": 3
   },
   "file_extension": ".py",
   "mimetype": "text/x-python",
   "name": "python",
   "nbconvert_exporter": "python",
   "pygments_lexer": "ipython3",
   "version": "3.11.3"
  }
 },
 "nbformat": 4,
 "nbformat_minor": 2
}
