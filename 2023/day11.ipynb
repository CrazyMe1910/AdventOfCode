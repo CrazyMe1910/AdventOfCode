{
 "cells": [
  {
   "cell_type": "code",
   "execution_count": 184,
   "metadata": {},
   "outputs": [],
   "source": [
    "def day_11_part_01():\n",
    "    input = \"inputs/input11.txt\"\n",
    "    with open(input, 'r') as file:\n",
    "        arr = [line.strip() for line in file.readlines()]\n",
    "    expansion = ['', [], []]\n",
    "    for i, row in enumerate(arr):\n",
    "        if '#' not in row:\n",
    "            expansion[0] = row\n",
    "            expansion[1].append(i)\n",
    "    for j, _ in enumerate(arr[0]):\n",
    "        allEmpty = True\n",
    "        for k, _ in enumerate(arr):\n",
    "            if arr[k][j] == '#':\n",
    "                allEmpty = False\n",
    "        if allEmpty:\n",
    "            expansion[2].append(j)\n",
    "    \n",
    "    expansion[1].reverse()\n",
    "    expansion[2].reverse()\n",
    "    for l, index in enumerate(expansion[1]):\n",
    "        arr.insert(index, expansion[0])\n",
    "    for m, index in enumerate(expansion[2]):\n",
    "        for n, _ in enumerate(arr):\n",
    "            arr[n] = arr[n][:index] + '.' + arr[n][index:]\n",
    "    \n",
    "    galaxies = {}\n",
    "    count = 1\n",
    "    for n, row in enumerate(arr):\n",
    "        index = row.find('#')\n",
    "        while index != -1:\n",
    "            galaxies[count] = [n, index]\n",
    "            count += 1\n",
    "            index = row.find('#', index + 1)\n",
    "\n",
    "    result = 0\n",
    "    for num, indices in galaxies.items():\n",
    "        for num2, indices2 in galaxies.items():\n",
    "            if num2 > num:\n",
    "                result += (max(-1 * (indices2[1] - indices[1]), indices2[1] - indices[1])) + max(-1 * (indices2[0] - indices[0]), indices2[0] - indices[0])\n",
    "\n",
    "    print(result)"
   ]
  },
  {
   "cell_type": "code",
   "execution_count": 185,
   "metadata": {},
   "outputs": [],
   "source": [
    "def day_11_part_02(multiplier):\n",
    "    input = \"inputs/input11.txt\"\n",
    "    with open(input, 'r') as file:\n",
    "        arr = [line.strip() for line in file.readlines()]\n",
    "    expansion = [[], []]\n",
    "    for i, row in enumerate(arr):\n",
    "        if '#' not in row:\n",
    "            expansion[0].append(i)\n",
    "    for j, _ in enumerate(arr[0]):\n",
    "        allEmpty = True\n",
    "        for k, _ in enumerate(arr):\n",
    "            if arr[k][j] == '#':\n",
    "                allEmpty = False\n",
    "        if allEmpty:\n",
    "            expansion[1].append(j)\n",
    "\n",
    "    galaxies = {}\n",
    "    count = 1\n",
    "    for n, row in enumerate(arr):\n",
    "        index = row.find('#')\n",
    "        while index != -1:\n",
    "            galaxies[count] = [n, index]\n",
    "            count += 1\n",
    "            index = row.find('#', index + 1)\n",
    "\n",
    "    result = 0\n",
    "    for num, indices in galaxies.items():\n",
    "        for num2, indices2 in galaxies.items():\n",
    "            if num2 > num:\n",
    "                result += (max(-1 * (indices2[1] - indices[1]), indices2[1] - indices[1])) + max(-1 * (indices2[0] - indices[0]), indices2[0] - indices[0])\n",
    "                result += len([key for key in expansion[0] if min(indices[0], indices2[0]) < key < max(indices[0], indices2[0])]) * (multiplier - 1)\n",
    "                result += len([key for key in expansion[1] if min(indices[1], indices2[1]) < key < max(indices[1], indices2[1])]) * (multiplier - 1)\n",
    "\n",
    "    print(result)"
   ]
  },
  {
   "cell_type": "code",
   "execution_count": 186,
   "metadata": {},
   "outputs": [
    {
     "name": "stdout",
     "output_type": "stream",
     "text": [
      "9521776\n",
      "553224415344\n"
     ]
    }
   ],
   "source": [
    "day_11_part_01()\n",
    "day_11_part_02(1000000)"
   ]
  },
  {
   "cell_type": "code",
   "execution_count": null,
   "metadata": {},
   "outputs": [],
   "source": []
  }
 ],
 "metadata": {
  "kernelspec": {
   "display_name": "Python 3",
   "language": "python",
   "name": "python3"
  },
  "language_info": {
   "codemirror_mode": {
    "name": "ipython",
    "version": 3
   },
   "file_extension": ".py",
   "mimetype": "text/x-python",
   "name": "python",
   "nbconvert_exporter": "python",
   "pygments_lexer": "ipython3",
   "version": "3.11.3"
  }
 },
 "nbformat": 4,
 "nbformat_minor": 2
}
