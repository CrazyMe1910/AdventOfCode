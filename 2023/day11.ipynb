{
 "cells": [
  {
   "cell_type": "code",
   "execution_count": 98,
   "metadata": {},
   "outputs": [],
   "source": [
    "def day_11_part_01():\n",
    "    input = \"inputs/input11.txt\"\n",
    "    with open(input, 'r') as file:\n",
    "        arr = [line.strip() for line in file.readlines()]\n",
    "    expansion = [[], []]\n",
    "    for i, row in enumerate(arr):\n",
    "        if '#' not in row:\n",
    "            expansion[0].append(i)\n",
    "    for j, _ in enumerate(arr[0]):\n",
    "        allEmpty = True\n",
    "        for k, _ in enumerate(arr):\n",
    "            if arr[k][j] == '#':\n",
    "                allEmpty = False\n",
    "        if allEmpty:\n",
    "            expansion[1].append(j)\n",
    "    \n",
    "    galaxies = {}\n",
    "    count = 1\n",
    "    for n, row in enumerate(arr):\n",
    "        index = row.find('#')\n",
    "        while index != -1:\n",
    "            galaxies[count] = [n, index]\n",
    "            count += 1\n",
    "            index = row.find('#', index + 1)\n",
    "\n",
    "    result = 0\n",
    "    from itertools import combinations\n",
    "    for (num, indices), (num2, indices2) in combinations(galaxies.items(), 2):\n",
    "        y1, y2 = sorted([indices[0], indices2[0]])\n",
    "        x1, x2 = sorted([indices[1], indices2[1]])\n",
    "        temp_result = (abs(indices2[1] - indices[1])) + abs(indices2[0] - indices[0])\n",
    "        temp_result += sum(1 for key in expansion[0] if y1 < key < y2)\n",
    "        temp_result += sum(1 for key in expansion[1] if x1 < key < x2)\n",
    "        result += temp_result\n",
    "\n",
    "    print(result)"
   ]
  },
  {
   "cell_type": "code",
   "execution_count": 99,
   "metadata": {},
   "outputs": [],
   "source": [
    "def day_11_part_02(multiplier):\n",
    "    input = \"inputs/input11.txt\"\n",
    "    with open(input, 'r') as file:\n",
    "        arr = [line.strip() for line in file.readlines()]\n",
    "    expansion = [[], []]\n",
    "    for i, row in enumerate(arr):\n",
    "        if '#' not in row:\n",
    "            expansion[0].append(i)\n",
    "    for j, _ in enumerate(arr[0]):\n",
    "        allEmpty = True\n",
    "        for k, _ in enumerate(arr):\n",
    "            if arr[k][j] == '#':\n",
    "                allEmpty = False\n",
    "        if allEmpty:\n",
    "            expansion[1].append(j)\n",
    "\n",
    "    galaxies = {}\n",
    "    count = 1\n",
    "    for n, row in enumerate(arr):\n",
    "        index = row.find('#')\n",
    "        while index != -1:\n",
    "            galaxies[count] = [n, index]\n",
    "            count += 1\n",
    "            index = row.find('#', index + 1)\n",
    "\n",
    "    result = 0\n",
    "    from itertools import combinations\n",
    "    for (num, indices), (num2, indices2) in combinations(galaxies.items(), 2):\n",
    "        y1, y2 = sorted([indices[0], indices2[0]])\n",
    "        x1, x2 = sorted([indices[1], indices2[1]])\n",
    "        temp_result = (abs(indices2[1] - indices[1])) + abs(indices2[0] - indices[0])\n",
    "        temp_result += sum(1 for key in expansion[0] if y1 < key < y2) * (multiplier - 1)\n",
    "        temp_result += sum(1 for key in expansion[1] if x1 < key < x2) * (multiplier - 1)\n",
    "        result += temp_result\n",
    "\n",
    "    print(result)"
   ]
  },
  {
   "cell_type": "code",
   "execution_count": 100,
   "metadata": {},
   "outputs": [
    {
     "name": "stdout",
     "output_type": "stream",
     "text": [
      "9521776\n",
      "553224415344\n"
     ]
    }
   ],
   "source": [
    "day_11_part_01()\n",
    "day_11_part_02(10**6)"
   ]
  },
  {
   "cell_type": "code",
   "execution_count": null,
   "metadata": {},
   "outputs": [],
   "source": []
  }
 ],
 "metadata": {
  "kernelspec": {
   "display_name": "Python 3",
   "language": "python",
   "name": "python3"
  },
  "language_info": {
   "codemirror_mode": {
    "name": "ipython",
    "version": 3
   },
   "file_extension": ".py",
   "mimetype": "text/x-python",
   "name": "python",
   "nbconvert_exporter": "python",
   "pygments_lexer": "ipython3",
   "version": "3.11.3"
  }
 },
 "nbformat": 4,
 "nbformat_minor": 2
}
