{
 "cells": [
  {
   "cell_type": "code",
   "execution_count": 149,
   "metadata": {},
   "outputs": [],
   "source": [
    "input = \"inputs/input04.txt\"\n",
    "with open(input, 'r') as file:\n",
    "    day_04_list = [line.strip() for line in file.readlines()]"
   ]
  },
  {
   "cell_type": "code",
   "execution_count": 150,
   "metadata": {},
   "outputs": [],
   "source": [
    "def day_04_part_01(arr):\n",
    "    cards = []\n",
    "    result = 0\n",
    "    for i, card in enumerate(arr):\n",
    "        card = card.split(\": \")[1].split(\" | \")\n",
    "        finalCard = []\n",
    "        for j, cardje in enumerate(card):\n",
    "            cardje = [int(num) for num in cardje.split()]\n",
    "            finalCard.append(cardje)\n",
    "        cards.append(finalCard)\n",
    "    \n",
    "    for k, card in enumerate(cards):\n",
    "        matchingNums = sum(num in card[0] for num in card[1])\n",
    "        if matchingNums != 0:\n",
    "            result += (1 * (2 ** (matchingNums - 1)))\n",
    "    print(result)"
   ]
  },
  {
   "cell_type": "code",
   "execution_count": 151,
   "metadata": {},
   "outputs": [],
   "source": [
    "def day_04_part_02(arr):\n",
    "    cards = []\n",
    "    result = 0\n",
    "    for i, card in enumerate(arr):\n",
    "        card = card.split(\": \")\n",
    "        card[0] = card[0].split()[1]\n",
    "        card[1] = card[1].split(\" | \")\n",
    "        finalCard = []\n",
    "        for j, cardje in enumerate(card[1]):\n",
    "            cardje = [int(num) for num in cardje.split()]\n",
    "            finalCard.append(cardje)\n",
    "        cards.append([[i + 1, 0], finalCard])\n",
    "    for k, card in enumerate(cards):\n",
    "        matchingNums = sum(num in card[1][0] for num in card[1][1])\n",
    "        if matchingNums != 0:\n",
    "            for l in range(matchingNums):\n",
    "                cards[l + k + 1][0][1] += (cards[k][0][1] + 1)\n",
    "        result += (card[0][1] + 1)\n",
    "    print(result)"
   ]
  },
  {
   "cell_type": "code",
   "execution_count": 152,
   "metadata": {},
   "outputs": [
    {
     "name": "stdout",
     "output_type": "stream",
     "text": [
      "20107\n",
      "8172507\n"
     ]
    }
   ],
   "source": [
    "day_04_part_01(day_04_list)\n",
    "day_04_part_02(day_04_list)"
   ]
  },
  {
   "cell_type": "code",
   "execution_count": null,
   "metadata": {},
   "outputs": [],
   "source": []
  }
 ],
 "metadata": {
  "kernelspec": {
   "display_name": "Python 3",
   "language": "python",
   "name": "python3"
  },
  "language_info": {
   "codemirror_mode": {
    "name": "ipython",
    "version": 3
   },
   "file_extension": ".py",
   "mimetype": "text/x-python",
   "name": "python",
   "nbconvert_exporter": "python",
   "pygments_lexer": "ipython3",
   "version": "3.11.3"
  }
 },
 "nbformat": 4,
 "nbformat_minor": 2
}
