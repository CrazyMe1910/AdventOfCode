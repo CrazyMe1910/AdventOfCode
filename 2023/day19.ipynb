{
 "cells": [
  {
   "cell_type": "code",
   "execution_count": 455,
   "metadata": {},
   "outputs": [],
   "source": [
    "input = \"inputs/input19.txt\"\n",
    "with open(input, 'r') as file:\n",
    "    day_19_list = [line.split(\"\\n\") for line in file.read().split(\"\\n\\n\")]"
   ]
  },
  {
   "cell_type": "code",
   "execution_count": 456,
   "metadata": {},
   "outputs": [],
   "source": [
    "from pprint import pprint\n",
    "def day_19_part_01(arr):\n",
    "    def checkKeyValue(key, row):\n",
    "        for statement in rules[key]:\n",
    "            smallerThen = statement[0].find(\"<\")\n",
    "            biggerThen = statement[0].find(\">\")\n",
    "            if smallerThen != -1:\n",
    "                # print(f\"Smaller: {statement[0]}\")\n",
    "                # print(statement[0][:smallerThen])\n",
    "                # print(int(statement[0][smallerThen + 1:]))\n",
    "                # print(\"------------------\")\n",
    "                # print(row[statement[0][:smallerThen]])\n",
    "                if row[statement[0][:smallerThen]] < int(statement[0][smallerThen + 1:]):\n",
    "                    return statement[1]\n",
    "            elif biggerThen != -1:\n",
    "                # print(f\"Bigger: {statement[0]}\")\n",
    "                # print(statement[0][:biggerThen])\n",
    "                # print(int(statement[0][biggerThen + 1:]))\n",
    "                # print(\"------------------\")\n",
    "                # print(row[statement[0][:biggerThen]])\n",
    "                # print(row[statement[0][:biggerThen]] > int(statement[0][biggerThen + 1:]))\n",
    "                if row[statement[0][:biggerThen]] > int(statement[0][biggerThen + 1:]):\n",
    "                    return statement[1]\n",
    "            else:\n",
    "                return statement[0]\n",
    "\n",
    "    rules = {}\n",
    "    for _, rule in enumerate(arr[0]):\n",
    "        key = rule[:-1].split(\"{\")[0]\n",
    "        rule = rule[:-1].split(\"{\")[1].split(\",\")\n",
    "        finalRule = []\n",
    "        for _, smallRule in enumerate(rule):\n",
    "            if \":\" in smallRule:\n",
    "                finalRule.append([smallRule.split(\":\")[0], smallRule.split(\":\")[1]])\n",
    "            else:\n",
    "                finalRule.append([smallRule])\n",
    "        rules[key] = finalRule\n",
    "    \n",
    "    answer = 0\n",
    "    for _, row in enumerate(arr[1]):\n",
    "        row = {value.split(\"=\")[0]: int(value.split(\"=\")[1]) for value in row[1:-1].split(\",\")}\n",
    "        key = \"in\"\n",
    "        while key not in [\"R\", \"A\"]:\n",
    "            key = checkKeyValue(key, row)\n",
    "        \n",
    "        if key == \"A\":\n",
    "            for _, num in row.items():\n",
    "                answer += num\n",
    "    \n",
    "    print(answer)"
   ]
  },
  {
   "cell_type": "code",
   "execution_count": 457,
   "metadata": {},
   "outputs": [],
   "source": [
    "def day_19_part_02(arr):\n",
    "    print(arr)"
   ]
  },
  {
   "cell_type": "code",
   "execution_count": 458,
   "metadata": {},
   "outputs": [
    {
     "name": "stdout",
     "output_type": "stream",
     "text": [
      "319295\n"
     ]
    }
   ],
   "source": [
    "day_19_part_01(day_19_list)\n",
    "# day_19_part_02(day_19_list)"
   ]
  },
  {
   "cell_type": "code",
   "execution_count": null,
   "metadata": {},
   "outputs": [],
   "source": []
  }
 ],
 "metadata": {
  "kernelspec": {
   "display_name": "Python 3",
   "language": "python",
   "name": "python3"
  },
  "language_info": {
   "codemirror_mode": {
    "name": "ipython",
    "version": 3
   },
   "file_extension": ".py",
   "mimetype": "text/x-python",
   "name": "python",
   "nbconvert_exporter": "python",
   "pygments_lexer": "ipython3",
   "version": "3.11.3"
  }
 },
 "nbformat": 4,
 "nbformat_minor": 2
}
