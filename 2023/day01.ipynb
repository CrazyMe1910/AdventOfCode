{
 "cells": [
  {
   "cell_type": "code",
   "execution_count": 100,
   "metadata": {},
   "outputs": [],
   "source": [
    "input = \"inputs/input01.txt\"\n",
    "with open(input, 'r') as file:\n",
    "    day_01_list = [line.strip() for line in file.readlines()]"
   ]
  },
  {
   "cell_type": "code",
   "execution_count": 101,
   "metadata": {},
   "outputs": [],
   "source": [
    "def day_01_part_01(arr):\n",
    "    alphabet = \"abcdefghijklmnopqrstuvwxyz\"\n",
    "    result = 0\n",
    "\n",
    "    for (i, num) in enumerate(arr):\n",
    "        currNum = num.translate({ord(i): None for i in alphabet})\n",
    "        finalNum = f\"{currNum[0]}{currNum[-1]}\"\n",
    "        result += int(finalNum)\n",
    "    \n",
    "    return result"
   ]
  },
  {
   "cell_type": "code",
   "execution_count": 102,
   "metadata": {},
   "outputs": [],
   "source": [
    "def day_01_part_02(arr):\n",
    "    def replace_all_written_numbers(input_string):\n",
    "        written_digits = {\n",
    "            'one': '1',\n",
    "            'two': '2',\n",
    "            'three': '3',\n",
    "            'four': '4',\n",
    "            'five': '5',\n",
    "            'six': '6',\n",
    "            'seven': '7',\n",
    "            'eight': '8',\n",
    "            'nine': '9'\n",
    "        }\n",
    "\n",
    "        all_indices = []\n",
    "\n",
    "        for word, digit in written_digits.items():\n",
    "            indices = []\n",
    "            index = input_string.find(word)\n",
    "            while index != -1:\n",
    "                indices.append((digit, index))\n",
    "                index = input_string.find(word, index + 1)\n",
    "            index = input_string.find(digit)\n",
    "            while index != -1:\n",
    "                indices.append((digit, index))\n",
    "                index = input_string.find(digit, index + 1)\n",
    "            all_indices.extend(indices)\n",
    "\n",
    "        all_indices.sort(key=lambda x: x[1])\n",
    "        return all_indices\n",
    "    \n",
    "    result = 0\n",
    "    for (i, num) in enumerate(arr):\n",
    "        num = replace_all_written_numbers(num)\n",
    "        num = f\"{num[0][0]}{num[-1][0]}\"\n",
    "        result += int(num)\n",
    "    \n",
    "    return result"
   ]
  },
  {
   "cell_type": "code",
   "execution_count": 103,
   "metadata": {},
   "outputs": [
    {
     "name": "stdout",
     "output_type": "stream",
     "text": [
      "56465\n",
      "55902\n"
     ]
    }
   ],
   "source": [
    "print(day_01_part_01(day_01_list.copy()))\n",
    "print(day_01_part_02(day_01_list.copy()))"
   ]
  },
  {
   "cell_type": "code",
   "execution_count": null,
   "metadata": {},
   "outputs": [],
   "source": []
  }
 ],
 "metadata": {
  "kernelspec": {
   "display_name": "Python 3",
   "language": "python",
   "name": "python3"
  },
  "language_info": {
   "codemirror_mode": {
    "name": "ipython",
    "version": 3
   },
   "file_extension": ".py",
   "mimetype": "text/x-python",
   "name": "python",
   "nbconvert_exporter": "python",
   "pygments_lexer": "ipython3",
   "version": "3.11.3"
  }
 },
 "nbformat": 4,
 "nbformat_minor": 2
}
