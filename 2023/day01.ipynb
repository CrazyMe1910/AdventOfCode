{
 "cells": [
  {
   "cell_type": "code",
   "execution_count": 113,
   "metadata": {},
   "outputs": [],
   "source": [
    "input = \"inputs/input01.txt\"\n",
    "with open(input, 'r') as file:\n",
    "    day_01_list = [line.strip() for line in file.readlines()]"
   ]
  },
  {
   "cell_type": "code",
   "execution_count": 114,
   "metadata": {},
   "outputs": [],
   "source": [
    "def day_01_part_01(arr):\n",
    "    alphabet = \"abcdefghijklmnopqrstuvwxyz\"\n",
    "    result = 0\n",
    "\n",
    "    for (i, num) in enumerate(arr):\n",
    "        currNum = num.translate({ord(i): None for i in alphabet})\n",
    "        finalNum = f\"{currNum[0]}{currNum[-1]}\"\n",
    "        result += int(finalNum)\n",
    "    \n",
    "    return result"
   ]
  },
  {
   "cell_type": "code",
   "execution_count": 117,
   "metadata": {},
   "outputs": [],
   "source": [
    "def day_01_part_02(arr):\n",
    "    def replace_all_written_numbers(input_string):\n",
    "        written_digits = {\n",
    "            'one': '1',\n",
    "            'two': '2',\n",
    "            'three': '3',\n",
    "            'four': '4',\n",
    "            'five': '5',\n",
    "            'six': '6',\n",
    "            'seven': '7',\n",
    "            'eight': '8',\n",
    "            'nine': '9'\n",
    "        }\n",
    "\n",
    "        while True:\n",
    "            indices = []\n",
    "            for word, digit in written_digits.items():\n",
    "                index = input_string.find(word)\n",
    "                if index != -1:\n",
    "                    indices.append((digit, index, len(word)))\n",
    "\n",
    "            if not indices:\n",
    "                break\n",
    "\n",
    "            indices.sort(key=lambda x: x[1])\n",
    "            digit, lowest_index, word_length = indices[0]\n",
    "            input_string = input_string[:lowest_index] + digit + input_string[lowest_index + word_length:]\n",
    "\n",
    "        return input_string\n",
    "    \n",
    "    alphabet = \"abcdefghijklmnopqrstuvwxyz\"\n",
    "    result = 0\n",
    "    for (i, num) in enumerate(arr):\n",
    "        num = replace_all_written_numbers(num)\n",
    "        currNum = num.translate({ord(i): None for i in alphabet})\n",
    "        finalNum = f\"{currNum[0]}{currNum[-1]}\"\n",
    "        result += int(finalNum)\n",
    "    \n",
    "    return result"
   ]
  },
  {
   "cell_type": "code",
   "execution_count": 119,
   "metadata": {},
   "outputs": [
    {
     "name": "stdout",
     "output_type": "stream",
     "text": [
      "56465\n",
      "55929\n"
     ]
    }
   ],
   "source": [
    "print(day_01_part_01(day_01_list.copy()))\n",
    "print(day_01_part_02(day_01_list.copy()))"
   ]
  },
  {
   "cell_type": "code",
   "execution_count": null,
   "metadata": {},
   "outputs": [],
   "source": []
  }
 ],
 "metadata": {
  "kernelspec": {
   "display_name": "Python 3",
   "language": "python",
   "name": "python3"
  },
  "language_info": {
   "codemirror_mode": {
    "name": "ipython",
    "version": 3
   },
   "file_extension": ".py",
   "mimetype": "text/x-python",
   "name": "python",
   "nbconvert_exporter": "python",
   "pygments_lexer": "ipython3",
   "version": "3.11.3"
  }
 },
 "nbformat": 4,
 "nbformat_minor": 2
}
