{
 "cells": [
  {
   "cell_type": "code",
   "execution_count": 288,
   "metadata": {},
   "outputs": [],
   "source": [
    "def changeToInt(num):\n",
    "    try:\n",
    "        num = int(num)\n",
    "    except ValueError as e:\n",
    "        e = None\n",
    "    else:\n",
    "        return num"
   ]
  },
  {
   "cell_type": "code",
   "execution_count": 289,
   "metadata": {},
   "outputs": [],
   "source": [
    "input = \"inputs/input03.txt\"\n",
    "with open(input, 'r') as file:\n",
    "    day_03_list = [line.strip() for line in file.readlines()]"
   ]
  },
  {
   "cell_type": "code",
   "execution_count": 290,
   "metadata": {},
   "outputs": [],
   "source": [
    "def day_03_part_01(arr):\n",
    "    symbolIndices = []\n",
    "    numberIndices = []\n",
    "    for i, row in enumerate(arr):\n",
    "        for j, symbol in enumerate(row):\n",
    "            # numberIndices for all numbers\n",
    "            if changeToInt(arr[i][j]) != None:\n",
    "                if (changeToInt(arr[i][j + 1]) != None) and (changeToInt(arr[i][j - 1]) == None):\n",
    "                    if changeToInt(arr[i][j + 2]) != None:\n",
    "                        num = int(f\"{changeToInt(arr[i][j])}{changeToInt(arr[i][j + 1])}{changeToInt(arr[i][j + 2])}\")\n",
    "                        numberIndices.append([num, i, j, j + 2])\n",
    "                    else:\n",
    "                        num = int(f\"{changeToInt(arr[i][j])}{changeToInt(arr[i][j + 1])}\")\n",
    "                        numberIndices.append([num, i, j, j + 1])\n",
    "                if (changeToInt(arr[i][j + 1]) == None) and (changeToInt(arr[i][j - 1]) == None):\n",
    "                    num = int(f\"{changeToInt(arr[i][j])}\")\n",
    "                    numberIndices.append([num, i, j])\n",
    "\n",
    "            #symbolIndices for all symbols\n",
    "            if changeToInt(arr[i][j]) == None and arr[i][j] != '.':\n",
    "                symbolIndices.append([i, j])\n",
    "            \n",
    "    result = 0\n",
    "    for k, array in enumerate(numberIndices):\n",
    "        if len(array) == 3:\n",
    "            adjecentArray = [[array[1] - 1, array[2] - 1], [array[1] - 1, array[2]], [array[1] - 1, array[2] + 1], [array[1], array[2] - 1], [array[1], array[2] + 1], [array[1] + 1, array[2] - 1], [array[1] + 1, array[2]], [array[1] + 1, array[2] + 1]]\n",
    "            for l, adjecentIndices in enumerate(adjecentArray):\n",
    "                result += array[0] if (adjecentIndices in symbolIndices) else 0\n",
    "        elif len(array) == 4:\n",
    "            if (array[3] - array[2]) == 2:\n",
    "                adjecentArray = [[array[1] - 1, array[2] - 1], [array[1] - 1, array[2]], [array[1] - 1, array[2] + 1], [array[1] - 1, array[3]], [array[1] - 1, array[3] + 1], [array[1], array[2] - 1], [array[1], array[3] + 1], [array[1] + 1, array[2] - 1], [array[1] + 1, array[2]], [array[1] + 1, array[2] + 1], [array[1] + 1, array[3]], [array[1] + 1, array[3] + 1]]\n",
    "                for m, adjecentIndices in enumerate(adjecentArray):\n",
    "                    result += array[0] if (adjecentIndices in symbolIndices) else 0\n",
    "            else:\n",
    "                adjecentArray = [[array[1] - 1, array[2] - 1], [array[1] - 1, array[2]], [array[1] - 1, array[3]], [array[1] - 1, array[3] + 1], [array[1], array[2] - 1], [array[1], array[3] + 1], [array[1] + 1, array[2] - 1], [array[1] + 1, array[2]], [array[1] + 1, array[3]], [array[1] + 1, array[3] + 1]]\n",
    "                for n, adjecentIndices in enumerate(adjecentArray):\n",
    "                    result += array[0] if (adjecentIndices in symbolIndices) else 0\n",
    "        else:\n",
    "            print(\"WHAT???\")\n",
    "    print(result)"
   ]
  },
  {
   "cell_type": "code",
   "execution_count": 291,
   "metadata": {},
   "outputs": [],
   "source": [
    "def day_03_part_02(arr):\n",
    "    def checkIfInGearIndices(arrs):\n",
    "        for o, gear in enumerate(gearIndices):\n",
    "            if arrs == gear[1]:\n",
    "                return o\n",
    "        return -1\n",
    "    symbolIndices = []\n",
    "    gearIndices = []\n",
    "    numberIndices = []\n",
    "    for i, row in enumerate(arr):\n",
    "        for j, symbol in enumerate(row):\n",
    "            # numberIndices for all numbers\n",
    "            if changeToInt(arr[i][j]) != None:\n",
    "                if (changeToInt(arr[i][j + 1]) != None) and (changeToInt(arr[i][j - 1]) == None):\n",
    "                    if changeToInt(arr[i][j + 2]) != None:\n",
    "                        num = int(f\"{changeToInt(arr[i][j])}{changeToInt(arr[i][j + 1])}{changeToInt(arr[i][j + 2])}\")\n",
    "                        numberIndices.append([num, i, j, j + 2])\n",
    "                    else:\n",
    "                        num = int(f\"{changeToInt(arr[i][j])}{changeToInt(arr[i][j + 1])}\")\n",
    "                        numberIndices.append([num, i, j, j + 1])\n",
    "                if (changeToInt(arr[i][j + 1]) == None) and (changeToInt(arr[i][j - 1]) == None):\n",
    "                    num = int(f\"{changeToInt(arr[i][j])}\")\n",
    "                    numberIndices.append([num, i, j])\n",
    "\n",
    "            #symbolIndices for all symbols\n",
    "            if changeToInt(arr[i][j]) == None and arr[i][j] != '.':\n",
    "                symbolIndices.append([i, j])\n",
    "                if arr[i][j] == \"*\":\n",
    "                    gearIndices.append([arr[i][j], [i, j], []])\n",
    "            \n",
    "    # print(numberIndices)\n",
    "    # print(symbolIndices)\n",
    "    # print(gearIndices)\n",
    "    for k, array in enumerate(numberIndices):\n",
    "        if len(array) == 3:\n",
    "            adjecentArray = [[array[1] - 1, array[2] - 1], [array[1] - 1, array[2]], [array[1] - 1, array[2] + 1], [array[1], array[2] - 1], [array[1], array[2] + 1], [array[1] + 1, array[2] - 1], [array[1] + 1, array[2]], [array[1] + 1, array[2] + 1]]\n",
    "            for l, adjecentIndices in enumerate(adjecentArray):\n",
    "                if adjecentIndices in symbolIndices:\n",
    "                    index = checkIfInGearIndices(adjecentIndices)\n",
    "                    if index != -1:\n",
    "                        gearIndices[index][2].append(array[0])\n",
    "        elif len(array) == 4:\n",
    "            if (array[3] - array[2]) == 2:\n",
    "                adjecentArray = [[array[1] - 1, array[2] - 1], [array[1] - 1, array[2]], [array[1] - 1, array[2] + 1], [array[1] - 1, array[3]], [array[1] - 1, array[3] + 1], [array[1], array[2] - 1], [array[1], array[3] + 1], [array[1] + 1, array[2] - 1], [array[1] + 1, array[2]], [array[1] + 1, array[2] + 1], [array[1] + 1, array[3]], [array[1] + 1, array[3] + 1]]\n",
    "                for m, adjecentIndices in enumerate(adjecentArray):\n",
    "                    if adjecentIndices in symbolIndices:\n",
    "                        index = checkIfInGearIndices(adjecentIndices)\n",
    "                        if index != -1:\n",
    "                            gearIndices[index][2].append(array[0])\n",
    "            else:\n",
    "                adjecentArray = [[array[1] - 1, array[2] - 1], [array[1] - 1, array[2]], [array[1] - 1, array[3]], [array[1] - 1, array[3] + 1], [array[1], array[2] - 1], [array[1], array[3] + 1], [array[1] + 1, array[2] - 1], [array[1] + 1, array[2]], [array[1] + 1, array[3]], [array[1] + 1, array[3] + 1]]\n",
    "                for n, adjecentIndices in enumerate(adjecentArray):\n",
    "                    if adjecentIndices in symbolIndices:\n",
    "                        index = checkIfInGearIndices(adjecentIndices)\n",
    "                        if index != -1:\n",
    "                            gearIndices[index][2].append(array[0])\n",
    "        else:\n",
    "            print(\"WHAT???\")\n",
    "            \n",
    "    result = 0\n",
    "    for p, gear in enumerate(gearIndices):\n",
    "        if len(gear[2]) == 2:\n",
    "            result += (gear[2][0] * gear[2][1])\n",
    "    print(result)"
   ]
  },
  {
   "cell_type": "code",
   "execution_count": 292,
   "metadata": {},
   "outputs": [
    {
     "name": "stdout",
     "output_type": "stream",
     "text": [
      "546563\n",
      "91031374\n"
     ]
    }
   ],
   "source": [
    "day_03_part_01(day_03_list)\n",
    "day_03_part_02(day_03_list)"
   ]
  },
  {
   "cell_type": "code",
   "execution_count": null,
   "metadata": {},
   "outputs": [],
   "source": []
  }
 ],
 "metadata": {
  "kernelspec": {
   "display_name": "Python 3",
   "language": "python",
   "name": "python3"
  },
  "language_info": {
   "codemirror_mode": {
    "name": "ipython",
    "version": 3
   },
   "file_extension": ".py",
   "mimetype": "text/x-python",
   "name": "python",
   "nbconvert_exporter": "python",
   "pygments_lexer": "ipython3",
   "version": "3.11.3"
  }
 },
 "nbformat": 4,
 "nbformat_minor": 2
}
