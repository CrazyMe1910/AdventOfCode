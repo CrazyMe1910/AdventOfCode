{
 "cells": [
  {
   "cell_type": "code",
   "execution_count": 1,
   "metadata": {},
   "outputs": [],
   "source": [
    "input = 'inputs/input12.txt'\n",
    "with open(input, 'r') as file:\n",
    "    day_12_list = [[line.strip().split(' ')[0], [int(num) for num in line.strip().split(' ')[1].split(',')]] for line in file.readlines()]"
   ]
  },
  {
   "cell_type": "code",
   "execution_count": 2,
   "metadata": {},
   "outputs": [],
   "source": [
    "from itertools import combinations\n",
    "import re\n",
    "def day_12_part_01(arr):\n",
    "    totalArrangements = []\n",
    "    for i, row in enumerate(arr):\n",
    "        indices = [index for index, char in enumerate(row[0]) if char == '?']\n",
    "        countBroken = (sum(row[1]) - row[0].count('#'))\n",
    "        combis = list(combinations(indices, countBroken))\n",
    "        arrangements = 0\n",
    "\n",
    "        for j, combi in enumerate(combis):\n",
    "            input_string = list(row[0])\n",
    "            for k, index in enumerate(combi):\n",
    "                input_string[index] = '#'\n",
    "\n",
    "            input_string = ''.join(input_string)\n",
    "            lengths = [len(match) for match in re.findall(r'#+', input_string)]\n",
    "            \n",
    "            if row[1] == lengths:\n",
    "                arrangements += 1\n",
    "\n",
    "        totalArrangements.append(arrangements)\n",
    "    \n",
    "    # print(totalArrangements)\n",
    "    print(sum(totalArrangements))"
   ]
  },
  {
   "cell_type": "code",
   "execution_count": 3,
   "metadata": {},
   "outputs": [],
   "source": [
    "from itertools import combinations\n",
    "import re\n",
    "def day_12_part_02():\n",
    "    input = 'inputs/input12.txt'\n",
    "    with open(input, 'r') as file:\n",
    "        arr = [[line.strip().split(' ')[0], [int(num) for num in line.strip().split(' ')[1].split(',')]] for line in file.readlines()]\n",
    "    totalArrangements = []\n",
    "    for i, row in enumerate(arr):\n",
    "        if i % 50 == 0:\n",
    "            print(f\"{int(i / 50)} / 20\")\n",
    "        arrangements = [0, 0]\n",
    "        endsDifferent = \"\"\n",
    "\n",
    "        if row[0].endswith('.'):\n",
    "            temp_input_string = f\"?{row[0]}\"\n",
    "        elif not row[0].endswith('.'):\n",
    "            endsDifferent = f\"{row[0]}?{row[0]}\"\n",
    "            \n",
    "        indices = [index for index, char in enumerate(row[0]) if char == '?']\n",
    "        countBroken = (sum(row[1]) - row[0].count('#'))\n",
    "        combis = list(combinations(indices, countBroken))\n",
    "\n",
    "        for j, combi in enumerate(combis):\n",
    "            input_string = list(row[0])\n",
    "            for k, index in enumerate(combi):\n",
    "                input_string[index] = '#'\n",
    "\n",
    "            input_string = ''.join(input_string)\n",
    "            lengths = [len(match) for match in re.findall(r'#+', input_string)]\n",
    "            \n",
    "            if row[1] == lengths:\n",
    "                arrangements[0] += 1\n",
    "\n",
    "        if endsDifferent != \"\":\n",
    "            indices = [index for index, char in enumerate(f\"{row[0]}?{row[0]}\") if char == '?']\n",
    "            countBroken = (sum(row[1]) - row[0].count('#')) * 2\n",
    "            combis = list(combinations(indices, countBroken))\n",
    "\n",
    "            for j, combi in enumerate(combis):\n",
    "                input_string = list(f\"{row[0]}?{row[0]}\")\n",
    "                for k, index in enumerate(combi):\n",
    "                    input_string[index] = '#'\n",
    "\n",
    "                input_string = ''.join(input_string)\n",
    "                lengths = [len(match) for match in re.findall(r'#+', input_string)]\n",
    "                if (row[1] * 2) == lengths:\n",
    "                    arrangements[1] += 1\n",
    "            \n",
    "            arrangements[1] = int(arrangements[1] / arrangements[0])\n",
    "        else:\n",
    "            indices = [index for index, char in enumerate(temp_input_string) if char == '?']\n",
    "            countBroken = (sum(row[1]) - temp_input_string.count('#'))\n",
    "            combis = list(combinations(indices, countBroken))\n",
    "\n",
    "            for j, combi in enumerate(combis):\n",
    "                input_string = list(temp_input_string)\n",
    "                for k, index in enumerate(combi):\n",
    "                    input_string[index] = '#'\n",
    "\n",
    "                input_string = ''.join(input_string)\n",
    "                lengths = [len(match) for match in re.findall(r'#+', input_string)]\n",
    "                \n",
    "                if row[1] == lengths:\n",
    "                    arrangements[1] += 1\n",
    "\n",
    "        totalArrangements.append(arrangements[0] * (arrangements[1] ** 4))\n",
    "    \n",
    "    # print(totalArrangements)\n",
    "    print(sum(totalArrangements))"
   ]
  },
  {
   "cell_type": "code",
   "execution_count": 4,
   "metadata": {},
   "outputs": [
    {
     "name": "stdout",
     "output_type": "stream",
     "text": [
      "7490\n"
     ]
    }
   ],
   "source": [
    "day_12_part_01(day_12_list)\n",
    "# day_12_part_02()"
   ]
  },
  {
   "cell_type": "code",
   "execution_count": null,
   "metadata": {},
   "outputs": [],
   "source": []
  }
 ],
 "metadata": {
  "kernelspec": {
   "display_name": "Python 3",
   "language": "python",
   "name": "python3"
  },
  "language_info": {
   "codemirror_mode": {
    "name": "ipython",
    "version": 3
   },
   "file_extension": ".py",
   "mimetype": "text/x-python",
   "name": "python",
   "nbconvert_exporter": "python",
   "pygments_lexer": "ipython3",
   "version": "3.11.3"
  }
 },
 "nbformat": 4,
 "nbformat_minor": 2
}
