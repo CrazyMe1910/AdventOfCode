{
 "cells": [
  {
   "cell_type": "code",
   "execution_count": 62,
   "metadata": {},
   "outputs": [],
   "source": [
    "input = \"inputs/input08.txt\"\n",
    "with open(input, 'r') as file:\n",
    "    day_08_list = [line.strip() for line in file.readlines()]"
   ]
  },
  {
   "cell_type": "code",
   "execution_count": 63,
   "metadata": {},
   "outputs": [],
   "source": [
    "def day_08_part_01(arr):\n",
    "    directions = arr[0]\n",
    "    maps = {}\n",
    "    for map in arr[2:]:\n",
    "        if not (map.split(\" = \")[0] == map.split(\" = \")[1].split(', ')[0][1:] and map.split(\" = \")[0] == map.split(\" = \")[1].split(', ')[1][:-1]) or (map.split(\" = \")[0] == 'ZZZ'):\n",
    "            maps[map.split(\" = \")[0]] = [map.split(\" = \")[1].split(', ')[0][1:], map.split(\" = \")[1].split(', ')[1][:-1]]\n",
    "\n",
    "    totalSteps = 0\n",
    "    currentPos = maps['AAA']\n",
    "    endIsReached = False\n",
    "    while not endIsReached:\n",
    "        for direction in directions:\n",
    "            right = currentPos[1]\n",
    "            left = currentPos[0]\n",
    "            if direction == 'R':\n",
    "                currentPos = maps[right]\n",
    "                endIsReached = True if 'ZZZ' == right else False\n",
    "            else:\n",
    "                currentPos = maps[left]\n",
    "                endIsReached = True if 'ZZZ' == left else False\n",
    "            \n",
    "            totalSteps += 1\n",
    "\n",
    "    print(totalSteps)"
   ]
  },
  {
   "cell_type": "code",
   "execution_count": 64,
   "metadata": {},
   "outputs": [],
   "source": [
    "from math import gcd\n",
    "\n",
    "def lcm(x, y):\n",
    "    return x * y // gcd(x, y)\n",
    "\n",
    "def arrayLCM(arr):\n",
    "    result = arr[0]\n",
    "    for i in range(1, len(arr)):\n",
    "        result = lcm(result, arr[i])\n",
    "    return result\n",
    "\n",
    "def day_08_part_02(arr):\n",
    "    directions = arr[0]\n",
    "    maps = {}\n",
    "    for map in arr[2:]:\n",
    "        if not (map.split(\" = \")[0] == map.split(\" = \")[1].split(', ')[0][1:] and map.split(\" = \")[0] == map.split(\" = \")[1].split(', ')[1][:-1]) or (map.split(\" = \")[0] == 'ZZZ'):\n",
    "            maps[map.split(\" = \")[0]] = [map.split(\" = \")[1].split(', ')[0][1:], map.split(\" = \")[1].split(', ')[1][:-1]]\n",
    "\n",
    "    totalSteps = []\n",
    "    currentPos = [maps[key] for key in maps.keys() if key.endswith('A')]\n",
    "    for i, map in enumerate(currentPos):\n",
    "        currPos = map\n",
    "        endIsReached = False\n",
    "        steps = 0\n",
    "        while not endIsReached:\n",
    "            for direction in directions:\n",
    "                steps += 1\n",
    "                if direction == 'R':\n",
    "                    if currPos[1].endswith('Z'):\n",
    "                        endIsReached = True\n",
    "                        break\n",
    "                    currPos = maps[currPos[1]]\n",
    "                else:\n",
    "                    if currPos[0].endswith('Z'):\n",
    "                        endIsReached = True\n",
    "                        break\n",
    "                    currPos = maps[currPos[0]]\n",
    "        totalSteps.append(steps)\n",
    "\n",
    "    print(arrayLCM(totalSteps))"
   ]
  },
  {
   "cell_type": "code",
   "execution_count": 65,
   "metadata": {},
   "outputs": [
    {
     "name": "stdout",
     "output_type": "stream",
     "text": [
      "11567\n",
      "9858474970153\n"
     ]
    }
   ],
   "source": [
    "day_08_part_01(day_08_list)\n",
    "day_08_part_02(day_08_list)"
   ]
  },
  {
   "cell_type": "code",
   "execution_count": null,
   "metadata": {},
   "outputs": [],
   "source": []
  }
 ],
 "metadata": {
  "kernelspec": {
   "display_name": "Python 3",
   "language": "python",
   "name": "python3"
  },
  "language_info": {
   "codemirror_mode": {
    "name": "ipython",
    "version": 3
   },
   "file_extension": ".py",
   "mimetype": "text/x-python",
   "name": "python",
   "nbconvert_exporter": "python",
   "pygments_lexer": "ipython3",
   "version": "3.11.3"
  }
 },
 "nbformat": 4,
 "nbformat_minor": 2
}
