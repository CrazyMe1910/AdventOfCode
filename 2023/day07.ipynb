{
 "cells": [
  {
   "cell_type": "code",
   "execution_count": 4,
   "metadata": {},
   "outputs": [],
   "source": [
    "input = \"inputs/input07.txt\"\n",
    "with open(input, 'r') as file:\n",
    "    day_07_list = [[line.strip().split(' ')[0], int(line.strip().split(' ')[1])] for line in file.readlines()]"
   ]
  },
  {
   "cell_type": "code",
   "execution_count": 5,
   "metadata": {},
   "outputs": [],
   "source": [
    "def day_07_part_01(arr):\n",
    "    def check_hand(hand):\n",
    "        cards = {\"A\": 0, \"K\": 0, \"Q\": 0, \"J\": 0, \"T\": 0, \"9\": 0, \"8\": 0, \"7\": 0, \"6\": 0, \"5\": 0, \"4\": 0, \"3\": 0, \"2\": 0}\n",
    "        for card in hand:\n",
    "            cards[card] += 1\n",
    "        if list(cards.values()).count(5) == 1:\n",
    "            handType = \"five\"\n",
    "        elif list(cards.values()).count(4) == 1:\n",
    "            handType = \"four\"\n",
    "        elif list(cards.values()).count(3) == 1 and list(cards.values()).count(2) == 1:\n",
    "            handType = \"full\"\n",
    "        elif list(cards.values()).count(3) == 1:\n",
    "            handType = \"three\"\n",
    "        elif list(cards.values()).count(2) == 2:\n",
    "            handType = \"two\"\n",
    "        elif list(cards.values()).count(2) == 1:\n",
    "            handType = \"one\"\n",
    "        else:\n",
    "            handType = \"high\"\n",
    "        return handType\n",
    "    \n",
    "    cardOrder = '23456789TJQKA'\n",
    "    differentHands = {\n",
    "        \"high\": [],\n",
    "        \"one\": [],\n",
    "        \"two\": [],\n",
    "        \"three\": [],\n",
    "        \"full\": [],\n",
    "        \"four\": [],\n",
    "        \"five\": [],\n",
    "    }\n",
    "\n",
    "    for hand in arr:\n",
    "        differentHands[check_hand(hand[0])].append(hand)\n",
    "    \n",
    "    for hands in differentHands.values():\n",
    "        if len(hands) in [0, 1]:\n",
    "            continue\n",
    "        else:\n",
    "            hands.sort(key=lambda x: [cardOrder.index(c) for c in x[0]])\n",
    "    \n",
    "    result = 0\n",
    "    rank = 1\n",
    "    for hands in differentHands.values():\n",
    "        if len(hands) == 0:\n",
    "            continue\n",
    "        \n",
    "        for hand in hands:\n",
    "                result += (hand[1] * rank)\n",
    "                rank += 1\n",
    "\n",
    "    print(result)"
   ]
  },
  {
   "cell_type": "code",
   "execution_count": 22,
   "metadata": {},
   "outputs": [],
   "source": [
    "def day_07_part_02(arr):\n",
    "    def check_hand(hand):\n",
    "        cards = {\"A\": 0, \"K\": 0, \"Q\": 0, \"T\": 0, \"9\": 0, \"8\": 0, \"7\": 0, \"6\": 0, \"5\": 0, \"4\": 0, \"3\": 0, \"2\": 0}\n",
    "        jokers = 0\n",
    "        for card in hand:\n",
    "            if card == \"J\":\n",
    "                jokers += 1\n",
    "            else:\n",
    "                cards[card] += 1\n",
    "\n",
    "        if list(cards.values()).count(5) == 1 or list(cards.values()).count(5 - jokers) == 1 or jokers in [5, 4]:\n",
    "            handType = \"five\"\n",
    "        elif list(cards.values()).count(4) == 1 or list(cards.values()).count(4 - jokers) == 1 or jokers == 3:\n",
    "            handType = \"four\"\n",
    "        elif list(cards.values()).count(3) == 1 and list(cards.values()).count(2) == 1 or list(cards.values()).count(2) == 2 and jokers == 1:\n",
    "            handType = \"full\"\n",
    "        elif list(cards.values()).count(3) == 1 or list(cards.values()).count(3 - jokers) == 1 or jokers == 2:\n",
    "            handType = \"three\"\n",
    "        elif list(cards.values()).count(2) == 2:\n",
    "            handType = \"two\"\n",
    "        elif list(cards.values()).count(2) == 1 or jokers == 1:\n",
    "            handType = \"one\"\n",
    "        else:\n",
    "            handType = \"high\"\n",
    "        return handType\n",
    "    \n",
    "    cardOrder = 'J23456789TQKA'\n",
    "    differentHands = {\n",
    "        \"high\": [],\n",
    "        \"one\": [],\n",
    "        \"two\": [],\n",
    "        \"three\": [],\n",
    "        \"full\": [],\n",
    "        \"four\": [],\n",
    "        \"five\": [],\n",
    "    }\n",
    "\n",
    "\n",
    "    for hand in arr:\n",
    "        differentHands[check_hand(hand[0])].append(hand)\n",
    "    \n",
    "    for hands in differentHands.values():\n",
    "        if len(hands) in [0, 1]:\n",
    "            continue\n",
    "        else:\n",
    "            hands.sort(key=lambda x: [cardOrder.index(c) for c in x[0]])\n",
    "    \n",
    "    result = 0\n",
    "    rank = 1\n",
    "    for hands in differentHands.values():\n",
    "        if len(hands) == 0:\n",
    "            continue\n",
    "        \n",
    "        for hand in hands:\n",
    "                result += (hand[1] * rank)\n",
    "                rank += 1\n",
    "\n",
    "    print(result)"
   ]
  },
  {
   "cell_type": "code",
   "execution_count": 23,
   "metadata": {},
   "outputs": [
    {
     "name": "stdout",
     "output_type": "stream",
     "text": [
      "250951660\n",
      "[]\n",
      "250798392\n"
     ]
    }
   ],
   "source": [
    "day_07_part_01(day_07_list)\n",
    "day_07_part_02(day_07_list)"
   ]
  },
  {
   "cell_type": "code",
   "execution_count": null,
   "metadata": {},
   "outputs": [],
   "source": []
  }
 ],
 "metadata": {
  "kernelspec": {
   "display_name": "Python 3",
   "language": "python",
   "name": "python3"
  },
  "language_info": {
   "codemirror_mode": {
    "name": "ipython",
    "version": 3
   },
   "file_extension": ".py",
   "mimetype": "text/x-python",
   "name": "python",
   "nbconvert_exporter": "python",
   "pygments_lexer": "ipython3",
   "version": "3.11.3"
  }
 },
 "nbformat": 4,
 "nbformat_minor": 2
}
